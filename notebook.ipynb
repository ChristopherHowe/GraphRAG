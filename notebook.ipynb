{
 "cells": [
  {
   "cell_type": "markdown",
   "metadata": {},
   "source": [
    "# Setup"
   ]
  },
  {
   "cell_type": "code",
   "execution_count": 1,
   "metadata": {},
   "outputs": [],
   "source": [
    "from db_funcs import get_all_content, get_db_con\n",
    "import dotenv\n",
    "dotenv.load_dotenv()\n",
    "conn=get_db_con()"
   ]
  },
  {
   "cell_type": "markdown",
   "metadata": {},
   "source": [
    "# Article Chunk Size\n",
    "Determine what kinda size the current article chunks are, decided that for now, chunking is unnecesary"
   ]
  },
  {
   "cell_type": "code",
   "execution_count": 2,
   "metadata": {},
   "outputs": [
    {
     "name": "stdout",
     "output_type": "stream",
     "text": [
      "Average length: 802.61\n",
      "Maximum length: 4063\n",
      "Minimum length: 169\n",
      "Standard deviation: 359.58\n",
      "\n",
      "Sample of lengths: [488, 959, 636, 1020, 1305, 754, 585, 612, 1510, 407, 668, 874, 641, 599, 1018, 803, 535, 585, 753, 1463]\n"
     ]
    }
   ],
   "source": [
    "import numpy as np\n",
    "import random\n",
    "with conn.cursor() as cur:\n",
    "    all_content = get_all_content(cur)\n",
    "content_lengths = [len(content) for content in all_content]\n",
    "\n",
    "print(f\"Average length: {np.mean(content_lengths):.2f}\")\n",
    "print(f\"Maximum length: {max(content_lengths)}\")\n",
    "print(f\"Minimum length: {min(content_lengths)}\")\n",
    "print(f\"Standard deviation: {np.std(content_lengths):.2f}\")\n",
    "print(f\"\\nSample of lengths: {random.sample(content_lengths, min(20, len(content_lengths)))}\")"
   ]
  },
  {
   "cell_type": "markdown",
   "metadata": {},
   "source": [
    "# Extract Sentances and Entity Relationships"
   ]
  },
  {
   "cell_type": "code",
   "execution_count": null,
   "metadata": {},
   "outputs": [
    {
     "name": "stderr",
     "output_type": "stream",
     "text": [
      "[nltk_data] Downloading package punkt_tab to /home/chris/nltk_data...\n",
      "[nltk_data]   Package punkt_tab is already up-to-date!\n",
      "Device set to use cuda:0\n"
     ]
    }
   ],
   "source": [
    "from transformers import pipeline\n",
    "from utils import extract_triplets, Sentence_Extractor\n",
    "from neo4j_funcs import Neo4j_Driver\n",
    "from typing import List\n",
    "from models import triplet\n",
    "\n",
    "sentence_extractor=Sentence_Extractor()\n",
    "triplet_extractor = pipeline('text2text-generation', model='Babelscape/rebel-large', tokenizer='Babelscape/rebel-large')\n",
    "\n",
    "neo4j = Neo4j_Driver()\n",
    "\n",
    "sentences=[]\n",
    "\n",
    "for content in all_content:\n",
    "    sentences.append(sentence_extractor.get_sentences(content))\n",
    "\n",
    "extracted_triplets:List[triplet]=[]\n",
    "extracted_tokens=triplet_extractor(sentences[0:10], return_tensors=True, return_text=False)\n",
    "for extracted_token in extracted_tokens:\n",
    "    batch=[extracted_token[0][\"generated_token_ids\"]]\n",
    "    extracted_text = triplet_extractor.tokenizer.batch_decode(batch)\n",
    "    sentence_triplets = extract_triplets(extracted_text[0])\n",
    "    extracted_triplets+= sentence_triplets\n",
    "\n",
    "for e in extracted_triplets :\n",
    "    neo4j.insert_relationship(e.head, e.type, e.type)\n",
    "    "
   ]
  }
 ],
 "metadata": {
  "kernelspec": {
   "display_name": "GraphRAG",
   "language": "python",
   "name": "python3"
  },
  "language_info": {
   "codemirror_mode": {
    "name": "ipython",
    "version": 3
   },
   "file_extension": ".py",
   "mimetype": "text/x-python",
   "name": "python",
   "nbconvert_exporter": "python",
   "pygments_lexer": "ipython3",
   "version": "3.13.2"
  }
 },
 "nbformat": 4,
 "nbformat_minor": 2
}
