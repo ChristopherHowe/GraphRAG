{
 "cells": [
  {
   "cell_type": "markdown",
   "metadata": {},
   "source": [
    "# Setup"
   ]
  },
  {
   "cell_type": "code",
   "execution_count": 1,
   "metadata": {},
   "outputs": [],
   "source": [
    "from db_funcs import get_all_content, get_db_con\n",
    "import dotenv\n",
    "dotenv.load_dotenv()\n",
    "conn=get_db_con()"
   ]
  },
  {
   "cell_type": "markdown",
   "metadata": {},
   "source": [
    "# Article Chunk Size\n",
    "Determine what kinda size the current article chunks are, decided that for now, chunking is unnecesary"
   ]
  },
  {
   "cell_type": "code",
   "execution_count": 2,
   "metadata": {},
   "outputs": [
    {
     "name": "stdout",
     "output_type": "stream",
     "text": [
      "Average length: 802.61\n",
      "Maximum length: 4063\n",
      "Minimum length: 169\n",
      "Standard deviation: 359.58\n",
      "\n",
      "Sample of lengths: [885, 626, 1039, 869, 543, 600, 650, 665, 610, 631, 544, 508, 793, 709, 548, 531, 905, 754, 617, 1105]\n"
     ]
    }
   ],
   "source": [
    "import numpy as np\n",
    "import random\n",
    "with conn.cursor() as cur:\n",
    "    all_content = get_all_content(cur)\n",
    "content_lengths = [len(content) for content in all_content]\n",
    "\n",
    "print(f\"Average length: {np.mean(content_lengths):.2f}\")\n",
    "print(f\"Maximum length: {max(content_lengths)}\")\n",
    "print(f\"Minimum length: {min(content_lengths)}\")\n",
    "print(f\"Standard deviation: {np.std(content_lengths):.2f}\")\n",
    "print(f\"\\nSample of lengths: {random.sample(content_lengths, min(20, len(content_lengths)))}\")"
   ]
  },
  {
   "cell_type": "markdown",
   "metadata": {},
   "source": [
    "# Extract Sentances and Entity Relationships"
   ]
  },
  {
   "cell_type": "code",
   "execution_count": null,
   "metadata": {},
   "outputs": [
    {
     "name": "stderr",
     "output_type": "stream",
     "text": [
      "/home/chris/miniconda3/envs/GraphRAG/lib/python3.13/site-packages/tqdm/auto.py:21: TqdmWarning: IProgress not found. Please update jupyter and ipywidgets. See https://ipywidgets.readthedocs.io/en/stable/user_install.html\n",
      "  from .autonotebook import tqdm as notebook_tqdm\n",
      "[nltk_data] Downloading package punkt_tab to /home/chris/nltk_data...\n",
      "[nltk_data]   Package punkt_tab is already up-to-date!\n",
      "Device set to use cuda:0\n"
     ]
    },
    {
     "name": "stdout",
     "output_type": "stream",
     "text": [
      "Starting to extract sentences from content\n",
      "Extracted all sentences from content in 0.09 seconds\n",
      "Batch 1 of 640 complete\n",
      "Batch 2 of 640 complete\n",
      "Batch 3 of 640 complete\n",
      "Batch 4 of 640 complete\n",
      "Batch 5 of 640 complete\n",
      "Batch 6 of 640 complete\n",
      "Batch 7 of 640 complete\n",
      "Batch 8 of 640 complete\n",
      "Batch 9 of 640 complete\n"
     ]
    },
    {
     "name": "stderr",
     "output_type": "stream",
     "text": [
      "You seem to be using the pipelines sequentially on GPU. In order to maximize efficiency please use a dataset\n"
     ]
    },
    {
     "name": "stdout",
     "output_type": "stream",
     "text": [
      "\n",
      "Cumulative time after 10 batches:\n",
      "  Decoding: 23.46 seconds\n",
      "  Extracting: 0.00 seconds\n",
      "  Inserting: 1.37 seconds\n",
      "Batch 10 of 640 complete\n",
      "Batch 11 of 640 complete\n",
      "Batch 12 of 640 complete\n",
      "Batch 13 of 640 complete\n",
      "Batch 14 of 640 complete\n",
      "Batch 15 of 640 complete\n",
      "Batch 16 of 640 complete\n",
      "Batch 17 of 640 complete\n",
      "Batch 18 of 640 complete\n",
      "Batch 19 of 640 complete\n",
      "\n",
      "Cumulative time after 20 batches:\n",
      "  Decoding: 45.71 seconds\n",
      "  Extracting: 0.00 seconds\n",
      "  Inserting: 2.39 seconds\n",
      "Batch 20 of 640 complete\n",
      "Batch 21 of 640 complete\n",
      "Batch 22 of 640 complete\n",
      "Batch 23 of 640 complete\n",
      "Batch 24 of 640 complete\n",
      "Batch 25 of 640 complete\n",
      "Batch 26 of 640 complete\n",
      "Batch 27 of 640 complete\n",
      "Batch 28 of 640 complete\n"
     ]
    },
    {
     "ename": "KeyboardInterrupt",
     "evalue": "",
     "output_type": "error",
     "traceback": [
      "\u001b[31m---------------------------------------------------------------------------\u001b[39m",
      "\u001b[31mKeyboardInterrupt\u001b[39m                         Traceback (most recent call last)",
      "\u001b[36mCell\u001b[39m\u001b[36m \u001b[39m\u001b[32mIn[3]\u001b[39m\u001b[32m, line 55\u001b[39m\n\u001b[32m     53\u001b[39m start_inserting = time.time()\n\u001b[32m     54\u001b[39m \u001b[38;5;28;01mfor\u001b[39;00m e \u001b[38;5;129;01min\u001b[39;00m triplets:\n\u001b[32m---> \u001b[39m\u001b[32m55\u001b[39m     \u001b[43mneo4j\u001b[49m\u001b[43m.\u001b[49m\u001b[43minsert_relationship\u001b[49m\u001b[43m(\u001b[49m\u001b[43me\u001b[49m\u001b[43m.\u001b[49m\u001b[43mhead\u001b[49m\u001b[43m,\u001b[49m\u001b[43m \u001b[49m\u001b[33;43m\"\u001b[39;49m\u001b[33;43mentity\u001b[39;49m\u001b[33;43m\"\u001b[39;49m\u001b[43m,\u001b[49m\u001b[43m \u001b[49m\u001b[43me\u001b[49m\u001b[43m.\u001b[49m\u001b[43mtype\u001b[49m\u001b[43m,\u001b[49m\u001b[43m \u001b[49m\u001b[43me\u001b[49m\u001b[43m.\u001b[49m\u001b[43mtail\u001b[49m\u001b[43m,\u001b[49m\u001b[43m \u001b[49m\u001b[33;43m\"\u001b[39;49m\u001b[33;43mentity\u001b[39;49m\u001b[33;43m\"\u001b[39;49m\u001b[43m)\u001b[49m\n\u001b[32m     56\u001b[39m end_inserting = time.time()\n\u001b[32m     57\u001b[39m timeInserting += (end_inserting - start_inserting)\n",
      "\u001b[36mFile \u001b[39m\u001b[32m~/personal/GraphRAG/neo4j_funcs.py:29\u001b[39m, in \u001b[36mNeo4j_Driver.insert_relationship\u001b[39m\u001b[34m(self, subject, subject_type, predicate, object, object_type)\u001b[39m\n\u001b[32m     20\u001b[39m query = \u001b[33m\"\"\"\u001b[39m\n\u001b[32m     21\u001b[39m \u001b[33m    MERGE (s:`\u001b[39m\u001b[38;5;132;01m{subject_type}\u001b[39;00m\u001b[33m` \u001b[39m\u001b[33m{{\u001b[39m\u001b[33mname: $subject}})\u001b[39m\n\u001b[32m     22\u001b[39m \u001b[33m    MERGE (o:`\u001b[39m\u001b[38;5;132;01m{object_type}\u001b[39;00m\u001b[33m` \u001b[39m\u001b[33m{{\u001b[39m\u001b[33mname: $object}})\u001b[39m\n\u001b[32m     23\u001b[39m \u001b[33m    MERGE (s)-[r:`\u001b[39m\u001b[38;5;132;01m{predicate}\u001b[39;00m\u001b[33m`]->(o)\u001b[39m\n\u001b[32m     24\u001b[39m \u001b[33m    RETURN s, r, o\u001b[39m\n\u001b[32m     25\u001b[39m \u001b[33m\u001b[39m\u001b[33m\"\"\"\u001b[39m.format(subject_type=subject_type, object_type=object_type, predicate=predicate)\n\u001b[32m     28\u001b[39m \u001b[38;5;28;01mtry\u001b[39;00m:\n\u001b[32m---> \u001b[39m\u001b[32m29\u001b[39m     result = \u001b[43msession\u001b[49m\u001b[43m.\u001b[49m\u001b[43mrun\u001b[49m\u001b[43m(\u001b[49m\u001b[43mquery\u001b[49m\u001b[43m,\u001b[49m\u001b[43m \u001b[49m\u001b[43msubject\u001b[49m\u001b[43m=\u001b[49m\u001b[43msubject\u001b[49m\u001b[43m,\u001b[49m\u001b[43m \u001b[49m\u001b[38;5;28;43mobject\u001b[39;49m\u001b[43m=\u001b[49m\u001b[38;5;28;43mobject\u001b[39;49m\u001b[43m)\u001b[49m\n\u001b[32m     30\u001b[39m     \u001b[38;5;28;01mreturn\u001b[39;00m result.single()\n\u001b[32m     31\u001b[39m \u001b[38;5;28;01mexcept\u001b[39;00m \u001b[38;5;167;01mException\u001b[39;00m \u001b[38;5;28;01mas\u001b[39;00m e:\n",
      "\u001b[36mFile \u001b[39m\u001b[32m~/miniconda3/envs/GraphRAG/lib/python3.13/site-packages/neo4j/_sync/work/session.py:328\u001b[39m, in \u001b[36mSession.run\u001b[39m\u001b[34m(self, query, parameters, **kwargs)\u001b[39m\n\u001b[32m    326\u001b[39m bookmarks = \u001b[38;5;28mself\u001b[39m._get_bookmarks()\n\u001b[32m    327\u001b[39m parameters = \u001b[38;5;28mdict\u001b[39m(parameters \u001b[38;5;129;01mor\u001b[39;00m {}, **kwargs)\n\u001b[32m--> \u001b[39m\u001b[32m328\u001b[39m \u001b[38;5;28;43mself\u001b[39;49m\u001b[43m.\u001b[49m\u001b[43m_auto_result\u001b[49m\u001b[43m.\u001b[49m\u001b[43m_run\u001b[49m\u001b[43m(\u001b[49m\n\u001b[32m    329\u001b[39m \u001b[43m    \u001b[49m\u001b[43mquery\u001b[49m\u001b[43m,\u001b[49m\n\u001b[32m    330\u001b[39m \u001b[43m    \u001b[49m\u001b[43mparameters\u001b[49m\u001b[43m,\u001b[49m\n\u001b[32m    331\u001b[39m \u001b[43m    \u001b[49m\u001b[38;5;28;43mself\u001b[39;49m\u001b[43m.\u001b[49m\u001b[43m_config\u001b[49m\u001b[43m.\u001b[49m\u001b[43mdatabase\u001b[49m\u001b[43m,\u001b[49m\n\u001b[32m    332\u001b[39m \u001b[43m    \u001b[49m\u001b[38;5;28;43mself\u001b[39;49m\u001b[43m.\u001b[49m\u001b[43m_config\u001b[49m\u001b[43m.\u001b[49m\u001b[43mimpersonated_user\u001b[49m\u001b[43m,\u001b[49m\n\u001b[32m    333\u001b[39m \u001b[43m    \u001b[49m\u001b[38;5;28;43mself\u001b[39;49m\u001b[43m.\u001b[49m\u001b[43m_config\u001b[49m\u001b[43m.\u001b[49m\u001b[43mdefault_access_mode\u001b[49m\u001b[43m,\u001b[49m\n\u001b[32m    334\u001b[39m \u001b[43m    \u001b[49m\u001b[43mbookmarks\u001b[49m\u001b[43m,\u001b[49m\n\u001b[32m    335\u001b[39m \u001b[43m    \u001b[49m\u001b[38;5;28;43mself\u001b[39;49m\u001b[43m.\u001b[49m\u001b[43m_config\u001b[49m\u001b[43m.\u001b[49m\u001b[43mnotifications_min_severity\u001b[49m\u001b[43m,\u001b[49m\n\u001b[32m    336\u001b[39m \u001b[43m    \u001b[49m\u001b[38;5;28;43mself\u001b[39;49m\u001b[43m.\u001b[49m\u001b[43m_config\u001b[49m\u001b[43m.\u001b[49m\u001b[43mnotifications_disabled_classifications\u001b[49m\u001b[43m,\u001b[49m\n\u001b[32m    337\u001b[39m \u001b[43m\u001b[49m\u001b[43m)\u001b[49m\n\u001b[32m    339\u001b[39m \u001b[38;5;28;01mreturn\u001b[39;00m \u001b[38;5;28mself\u001b[39m._auto_result\n",
      "\u001b[36mFile \u001b[39m\u001b[32m~/miniconda3/envs/GraphRAG/lib/python3.13/site-packages/neo4j/_sync/work/result.py:236\u001b[39m, in \u001b[36mResult._run\u001b[39m\u001b[34m(self, query, parameters, db, imp_user, access_mode, bookmarks, notifications_min_severity, notifications_disabled_classifications)\u001b[39m\n\u001b[32m    234\u001b[39m \u001b[38;5;28mself\u001b[39m._pull()\n\u001b[32m    235\u001b[39m \u001b[38;5;28mself\u001b[39m._connection.send_all()\n\u001b[32m--> \u001b[39m\u001b[32m236\u001b[39m \u001b[38;5;28;43mself\u001b[39;49m\u001b[43m.\u001b[49m\u001b[43m_attach\u001b[49m\u001b[43m(\u001b[49m\u001b[43m)\u001b[49m\n",
      "\u001b[36mFile \u001b[39m\u001b[32m~/miniconda3/envs/GraphRAG/lib/python3.13/site-packages/neo4j/_sync/work/result.py:430\u001b[39m, in \u001b[36mResult._attach\u001b[39m\u001b[34m(self)\u001b[39m\n\u001b[32m    428\u001b[39m \u001b[38;5;28;01mif\u001b[39;00m \u001b[38;5;28mself\u001b[39m._exhausted \u001b[38;5;129;01mis\u001b[39;00m \u001b[38;5;28;01mFalse\u001b[39;00m:\n\u001b[32m    429\u001b[39m     \u001b[38;5;28;01mwhile\u001b[39;00m \u001b[38;5;28mself\u001b[39m._attached \u001b[38;5;129;01mis\u001b[39;00m \u001b[38;5;28;01mFalse\u001b[39;00m:\n\u001b[32m--> \u001b[39m\u001b[32m430\u001b[39m         \u001b[38;5;28;43mself\u001b[39;49m\u001b[43m.\u001b[49m\u001b[43m_connection\u001b[49m\u001b[43m.\u001b[49m\u001b[43mfetch_message\u001b[49m\u001b[43m(\u001b[49m\u001b[43m)\u001b[49m\n",
      "\u001b[36mFile \u001b[39m\u001b[32m~/miniconda3/envs/GraphRAG/lib/python3.13/site-packages/neo4j/_sync/io/_common.py:184\u001b[39m, in \u001b[36mConnectionErrorHandler.__getattr__.<locals>.outer.<locals>.inner\u001b[39m\u001b[34m(*args, **kwargs)\u001b[39m\n\u001b[32m    182\u001b[39m \u001b[38;5;28;01mdef\u001b[39;00m\u001b[38;5;250m \u001b[39m\u001b[34minner\u001b[39m(*args, **kwargs):\n\u001b[32m    183\u001b[39m     \u001b[38;5;28;01mtry\u001b[39;00m:\n\u001b[32m--> \u001b[39m\u001b[32m184\u001b[39m         \u001b[43mfunc\u001b[49m\u001b[43m(\u001b[49m\u001b[43m*\u001b[49m\u001b[43margs\u001b[49m\u001b[43m,\u001b[49m\u001b[43m \u001b[49m\u001b[43m*\u001b[49m\u001b[43m*\u001b[49m\u001b[43mkwargs\u001b[49m\u001b[43m)\u001b[49m\n\u001b[32m    185\u001b[39m     \u001b[38;5;28;01mexcept\u001b[39;00m (Neo4jError, ServiceUnavailable, SessionExpired) \u001b[38;5;28;01mas\u001b[39;00m exc:\n\u001b[32m    186\u001b[39m         \u001b[38;5;28;01massert\u001b[39;00m \u001b[38;5;129;01mnot\u001b[39;00m asyncio.iscoroutinefunction(\u001b[38;5;28mself\u001b[39m.__on_error)\n",
      "\u001b[36mFile \u001b[39m\u001b[32m~/miniconda3/envs/GraphRAG/lib/python3.13/site-packages/neo4j/_sync/io/_bolt.py:861\u001b[39m, in \u001b[36mBolt.fetch_message\u001b[39m\u001b[34m(self)\u001b[39m\n\u001b[32m    858\u001b[39m     \u001b[38;5;28;01mreturn\u001b[39;00m \u001b[32m0\u001b[39m, \u001b[32m0\u001b[39m\n\u001b[32m    860\u001b[39m \u001b[38;5;66;03m# Receive exactly one message\u001b[39;00m\n\u001b[32m--> \u001b[39m\u001b[32m861\u001b[39m tag, fields = \u001b[38;5;28;43mself\u001b[39;49m\u001b[43m.\u001b[49m\u001b[43minbox\u001b[49m\u001b[43m.\u001b[49m\u001b[43mpop\u001b[49m\u001b[43m(\u001b[49m\n\u001b[32m    862\u001b[39m \u001b[43m    \u001b[49m\u001b[43mhydration_hooks\u001b[49m\u001b[43m=\u001b[49m\u001b[38;5;28;43mself\u001b[39;49m\u001b[43m.\u001b[49m\u001b[43mresponses\u001b[49m\u001b[43m[\u001b[49m\u001b[32;43m0\u001b[39;49m\u001b[43m]\u001b[49m\u001b[43m.\u001b[49m\u001b[43mhydration_hooks\u001b[49m\n\u001b[32m    863\u001b[39m \u001b[43m\u001b[49m\u001b[43m)\u001b[49m\n\u001b[32m    864\u001b[39m res = \u001b[38;5;28mself\u001b[39m._process_message(tag, fields)\n\u001b[32m    865\u001b[39m \u001b[38;5;28mself\u001b[39m.idle_since = monotonic()\n",
      "\u001b[36mFile \u001b[39m\u001b[32m~/miniconda3/envs/GraphRAG/lib/python3.13/site-packages/neo4j/_sync/io/_common.py:77\u001b[39m, in \u001b[36mInbox.pop\u001b[39m\u001b[34m(self, hydration_hooks)\u001b[39m\n\u001b[32m     76\u001b[39m \u001b[38;5;28;01mdef\u001b[39;00m\u001b[38;5;250m \u001b[39m\u001b[34mpop\u001b[39m(\u001b[38;5;28mself\u001b[39m, hydration_hooks):\n\u001b[32m---> \u001b[39m\u001b[32m77\u001b[39m     \u001b[38;5;28;43mself\u001b[39;49m\u001b[43m.\u001b[49m\u001b[43m_buffer_one_chunk\u001b[49m\u001b[43m(\u001b[49m\u001b[43m)\u001b[49m\n\u001b[32m     78\u001b[39m     \u001b[38;5;28;01mtry\u001b[39;00m:\n\u001b[32m     79\u001b[39m         size, tag = \u001b[38;5;28mself\u001b[39m._unpacker.unpack_structure_header()\n",
      "\u001b[36mFile \u001b[39m\u001b[32m~/miniconda3/envs/GraphRAG/lib/python3.13/site-packages/neo4j/_sync/io/_common.py:54\u001b[39m, in \u001b[36mInbox._buffer_one_chunk\u001b[39m\u001b[34m(self)\u001b[39m\n\u001b[32m     51\u001b[39m \u001b[38;5;28;01mwhile\u001b[39;00m \u001b[38;5;28;01mTrue\u001b[39;00m:\n\u001b[32m     52\u001b[39m     \u001b[38;5;28;01mwhile\u001b[39;00m chunk_size == \u001b[32m0\u001b[39m:\n\u001b[32m     53\u001b[39m         \u001b[38;5;66;03m# Determine the chunk size and skip noop\u001b[39;00m\n\u001b[32m---> \u001b[39m\u001b[32m54\u001b[39m         \u001b[43mreceive_into_buffer\u001b[49m\u001b[43m(\u001b[49m\u001b[38;5;28;43mself\u001b[39;49m\u001b[43m.\u001b[49m\u001b[43m_socket\u001b[49m\u001b[43m,\u001b[49m\u001b[43m \u001b[49m\u001b[38;5;28;43mself\u001b[39;49m\u001b[43m.\u001b[49m\u001b[43m_buffer\u001b[49m\u001b[43m,\u001b[49m\u001b[43m \u001b[49m\u001b[32;43m2\u001b[39;49m\u001b[43m)\u001b[49m\n\u001b[32m     55\u001b[39m         chunk_size = \u001b[38;5;28mself\u001b[39m._buffer.pop_u16()\n\u001b[32m     56\u001b[39m         \u001b[38;5;28;01mif\u001b[39;00m chunk_size == \u001b[32m0\u001b[39m:\n",
      "\u001b[36mFile \u001b[39m\u001b[32m~/miniconda3/envs/GraphRAG/lib/python3.13/site-packages/neo4j/_sync/io/_common.py:345\u001b[39m, in \u001b[36mreceive_into_buffer\u001b[39m\u001b[34m(sock, buffer, n_bytes)\u001b[39m\n\u001b[32m    343\u001b[39m \u001b[38;5;28;01mwith\u001b[39;00m \u001b[38;5;28mmemoryview\u001b[39m(buffer.data) \u001b[38;5;28;01mas\u001b[39;00m view:\n\u001b[32m    344\u001b[39m     \u001b[38;5;28;01mwhile\u001b[39;00m buffer.used < end:\n\u001b[32m--> \u001b[39m\u001b[32m345\u001b[39m         n = \u001b[43msock\u001b[49m\u001b[43m.\u001b[49m\u001b[43mrecv_into\u001b[49m\u001b[43m(\u001b[49m\n\u001b[32m    346\u001b[39m \u001b[43m            \u001b[49m\u001b[43mview\u001b[49m\u001b[43m[\u001b[49m\u001b[43mbuffer\u001b[49m\u001b[43m.\u001b[49m\u001b[43mused\u001b[49m\u001b[43m \u001b[49m\u001b[43m:\u001b[49m\u001b[43m \u001b[49m\u001b[43mend\u001b[49m\u001b[43m]\u001b[49m\u001b[43m,\u001b[49m\u001b[43m \u001b[49m\u001b[43mend\u001b[49m\u001b[43m \u001b[49m\u001b[43m-\u001b[49m\u001b[43m \u001b[49m\u001b[43mbuffer\u001b[49m\u001b[43m.\u001b[49m\u001b[43mused\u001b[49m\n\u001b[32m    347\u001b[39m \u001b[43m        \u001b[49m\u001b[43m)\u001b[49m\n\u001b[32m    348\u001b[39m         \u001b[38;5;28;01mif\u001b[39;00m n == \u001b[32m0\u001b[39m:\n\u001b[32m    349\u001b[39m             \u001b[38;5;28;01mraise\u001b[39;00m \u001b[38;5;167;01mOSError\u001b[39;00m(\u001b[33m\"\u001b[39m\u001b[33mNo data\u001b[39m\u001b[33m\"\u001b[39m)\n",
      "\u001b[36mFile \u001b[39m\u001b[32m~/miniconda3/envs/GraphRAG/lib/python3.13/site-packages/neo4j/_async_compat/network/_bolt_socket.py:364\u001b[39m, in \u001b[36mBoltSocketBase.recv_into\u001b[39m\u001b[34m(self, buffer, nbytes)\u001b[39m\n\u001b[32m    363\u001b[39m \u001b[38;5;28;01mdef\u001b[39;00m\u001b[38;5;250m \u001b[39m\u001b[34mrecv_into\u001b[39m(\u001b[38;5;28mself\u001b[39m, buffer, nbytes):\n\u001b[32m--> \u001b[39m\u001b[32m364\u001b[39m     \u001b[38;5;28;01mreturn\u001b[39;00m \u001b[38;5;28;43mself\u001b[39;49m\u001b[43m.\u001b[49m\u001b[43m_wait_for_io\u001b[49m\u001b[43m(\u001b[49m\u001b[38;5;28;43mself\u001b[39;49m\u001b[43m.\u001b[49m\u001b[43m_socket\u001b[49m\u001b[43m.\u001b[49m\u001b[43mrecv_into\u001b[49m\u001b[43m,\u001b[49m\u001b[43m \u001b[49m\u001b[43mbuffer\u001b[49m\u001b[43m,\u001b[49m\u001b[43m \u001b[49m\u001b[43mnbytes\u001b[49m\u001b[43m)\u001b[49m\n",
      "\u001b[36mFile \u001b[39m\u001b[32m~/miniconda3/envs/GraphRAG/lib/python3.13/site-packages/neo4j/_async_compat/network/_bolt_socket.py:339\u001b[39m, in \u001b[36mBoltSocketBase._wait_for_io\u001b[39m\u001b[34m(self, func, *args, **kwargs)\u001b[39m\n\u001b[32m    337\u001b[39m \u001b[38;5;28;01mdef\u001b[39;00m\u001b[38;5;250m \u001b[39m\u001b[34m_wait_for_io\u001b[39m(\u001b[38;5;28mself\u001b[39m, func, *args, **kwargs):\n\u001b[32m    338\u001b[39m     \u001b[38;5;28;01mif\u001b[39;00m \u001b[38;5;28mself\u001b[39m._deadline \u001b[38;5;129;01mis\u001b[39;00m \u001b[38;5;28;01mNone\u001b[39;00m:\n\u001b[32m--> \u001b[39m\u001b[32m339\u001b[39m         \u001b[38;5;28;01mreturn\u001b[39;00m \u001b[43mfunc\u001b[49m\u001b[43m(\u001b[49m\u001b[43m*\u001b[49m\u001b[43margs\u001b[49m\u001b[43m,\u001b[49m\u001b[43m \u001b[49m\u001b[43m*\u001b[49m\u001b[43m*\u001b[49m\u001b[43mkwargs\u001b[49m\u001b[43m)\u001b[49m\n\u001b[32m    340\u001b[39m     timeout = \u001b[38;5;28mself\u001b[39m._socket.gettimeout()\n\u001b[32m    341\u001b[39m     deadline_timeout = \u001b[38;5;28mself\u001b[39m._deadline.to_timeout()\n",
      "\u001b[31mKeyboardInterrupt\u001b[39m: "
     ]
    }
   ],
   "source": [
    "from transformers import pipeline\n",
    "from utils import extract_triplets, Sentence_Extractor\n",
    "from neo4j_funcs import Neo4j_Driver\n",
    "from typing import List\n",
    "from models import triplet\n",
    "import time\n",
    "from torch.utils.data import Dataset, DataLoader\n",
    "\n",
    "sentence_extractor=Sentence_Extractor()\n",
    "triplet_extractor = pipeline('text2text-generation', model='Babelscape/rebel-large', tokenizer='Babelscape/rebel-large')\n",
    "\n",
    "neo4j = Neo4j_Driver()\n",
    "\n",
    "sentences=[]\n",
    "print(\"Starting to extract sentences from content\")\n",
    "start_time = time.time()\n",
    "for content in all_content:\n",
    "    sentences.append(sentence_extractor.get_sentences(content))\n",
    "end_time = time.time()\n",
    "print(f\"Extracted all sentences from content in {end_time - start_time:.2f} seconds\")\n",
    "\n",
    "class SentenceDataset(Dataset):\n",
    "    def __init__(self, sentences):\n",
    "        self.sentences = [s for content_sentences in sentences for s in content_sentences]  # Flatten list\n",
    "        \n",
    "    def __len__(self):\n",
    "        return len(self.sentences)\n",
    "    \n",
    "    def __getitem__(self, idx):\n",
    "        return self.sentences[idx]\n",
    "dataset = SentenceDataset(sentences)\n",
    "batch_size=100\n",
    "sentences_dataloader=DataLoader(dataset, batch_size=batch_size, shuffle=False)\n",
    "total_batches = (len(dataset) + batch_size - 1) // batch_size  # Calculate total number of batches\n",
    "\n",
    "timeDecoding = 0\n",
    "timeExtracting = 0\n",
    "timeInserting = 0\n",
    "\n",
    "for batch_idx, sentences_batch in enumerate(sentences_dataloader):\n",
    "    start_decoding = time.time()\n",
    "    tokens = triplet_extractor(sentences_batch, return_tensors=True, return_text=False)\n",
    "    token_ids = [token[\"generated_token_ids\"] for token in tokens]\n",
    "    extracted_text = triplet_extractor.tokenizer.batch_decode(token_ids)\n",
    "    end_decoding = time.time()\n",
    "    timeDecoding += (end_decoding - start_decoding)\n",
    "\n",
    "    start_extracting = time.time()\n",
    "    triplets = [triplet for text in extracted_text for triplet in extract_triplets(text)]\n",
    "    end_extracting = time.time()\n",
    "    timeExtracting += (end_extracting - start_extracting)\n",
    "\n",
    "    start_inserting = time.time()\n",
    "    for e in triplets:\n",
    "        neo4j.insert_relationship(e.head, \"entity\", e.type, e.tail, \"entity\")\n",
    "    end_inserting = time.time()\n",
    "    timeInserting += (end_inserting - start_inserting)\n",
    "\n",
    "    if (batch_idx + 1) % 10 == 0:\n",
    "        print(f\"\\nCumulative time after {batch_idx + 1} batches:\")\n",
    "        print(f\"  Decoding: {timeDecoding:.2f} seconds\")\n",
    "        print(f\"  Extracting: {timeExtracting:.2f} seconds\")\n",
    "        print(f\"  Inserting: {timeInserting:.2f} seconds\")\n",
    "\n",
    "    print(f\"Batch {batch_idx + 1} of {total_batches} complete\")\n",
    "\n",
    "print(f\"\\nTotal time spent decoding: {timeDecoding:.2f} seconds\")\n",
    "print(f\"Total time spent extracting: {timeExtracting:.2f} seconds\")\n",
    "print(f\"Total time spent inserting: {timeInserting:.2f} seconds\")\n",
    "    "
   ]
  }
 ],
 "metadata": {
  "kernelspec": {
   "display_name": "GraphRAG",
   "language": "python",
   "name": "python3"
  },
  "language_info": {
   "codemirror_mode": {
    "name": "ipython",
    "version": 3
   },
   "file_extension": ".py",
   "mimetype": "text/x-python",
   "name": "python",
   "nbconvert_exporter": "python",
   "pygments_lexer": "ipython3",
   "version": "3.13.2"
  }
 },
 "nbformat": 4,
 "nbformat_minor": 2
}
