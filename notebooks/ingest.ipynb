{
 "cells": [
  {
   "cell_type": "markdown",
   "metadata": {},
   "source": [
    "# Setup"
   ]
  },
  {
   "cell_type": "code",
   "execution_count": null,
   "metadata": {},
   "outputs": [],
   "source": [
    "from db_funcs import get_all_content, get_db_con, insert_article, insert_question\n",
    "from utils import Sentence_Extractor\n",
    "from neo4j_funcs import Neo4j_Driver\n",
    "from EntityRelationshipExtractor import ER_Extractor\n",
    "from tqdm import tqdm\n",
    "import requests\n",
    "import dotenv\n",
    "from my_qdrant import MyQdrant\n",
    "from sentence_transformers import SentenceTransformer\n",
    "import os\n",
    "\n",
    "dotenv.load_dotenv()\n",
    "\n",
    "neo4j = Neo4j_Driver()\n",
    "sentence_extractor = Sentence_Extractor()\n",
    "er_extractor=ER_Extractor()"
   ]
  },
  {
   "cell_type": "markdown",
   "metadata": {},
   "source": [
    "# SQL Database Creation\n",
    "Fills a sql database with the content from the squad 2.0 Dataset"
   ]
  },
  {
   "cell_type": "code",
   "execution_count": null,
   "metadata": {},
   "outputs": [],
   "source": [
    "# Download SQuAD 2.0 dev dataset\n",
    "url = 'https://rajpurkar.github.io/SQuAD-explorer/dataset/dev-v2.0.json'\n",
    "response = requests.get(url)\n",
    "squad_dev = response.json()\n",
    "\n",
    "conn=get_db_con()\n",
    "\n",
    "for topic in squad_dev[\"data\"]:\n",
    "    print(topic['title'])\n",
    "    for paragraph in topic[\"paragraphs\"]:\n",
    "        with conn.cursor() as cur:\n",
    "            article_id = insert_article(cur, topic[\"title\"], paragraph[\"context\"])\n",
    "            for qa in paragraph[\"qas\"]:\n",
    "                insert_question(cur, qa[\"id\"], article_id, qa[\"question\"], qa[\"answers\"], qa[\"is_impossible\"])\n",
    "        conn.commit()"
   ]
  },
  {
   "cell_type": "markdown",
   "metadata": {},
   "source": [
    "# Embedding Ingestion\n",
    "Creates a bunch of embeddings for each of the content blocks and stores it in the qdrant embedding database alongside a content_id"
   ]
  },
  {
   "cell_type": "code",
   "execution_count": null,
   "metadata": {},
   "outputs": [],
   "source": [
    "with get_db_con().cursor() as cur:\n",
    "    content_ids, all_content = get_all_content(cur)\n",
    "\n",
    "model = SentenceTransformer(\"all-MiniLM-L6-v2\")\n",
    "qdrant_client=MyQdrant(os.getenv('QDRANT_COLLECTION_NAME'),os.getenv('QDRANT_VECTOR_SIZE'))\n",
    "\n",
    "print(\"Creating embeddings from content\")\n",
    "content_embeddings=model.encode(all_content)\n",
    "\n",
    "print(\"adding embeddings to db\")\n",
    "qdrant_client.add_points(content_embeddings, content_ids)\n",
    "\n",
    "print(\"embedding db is ready\")"
   ]
  },
  {
   "cell_type": "markdown",
   "metadata": {},
   "source": [
    "# Extract Sentances and Entity Relationships\n",
    "For each content block from the database, extract all sentences from the content block. For each content block, extract all entities and relationships using the model and system defined in the entity relationship extractor. Finally, insert each extracted entity into the neo4j database keeping track of which content block the entity is from. Entities can be from multiple content blocks so neo4j stores an array of content ids for each entity node."
   ]
  },
  {
   "cell_type": "code",
   "execution_count": null,
   "metadata": {},
   "outputs": [],
   "source": [
    "\n",
    "with get_db_con().cursor() as cur:\n",
    "    content_ids, all_content = get_all_content(cur)\n",
    "for content_id, content in tqdm(zip(content_ids, all_content), total=len(content_ids), desc=\"Processing content\"):\n",
    "    sentences = sentence_extractor.get_sentences(content)\n",
    "    triplets=er_extractor.extract_ERs(sentences)\n",
    "    for e in triplets:\n",
    "        neo4j.insert_relationship(e.head, \"entity\", e.type, e.tail, \"entity\", content_id)\n",
    "    "
   ]
  }
 ],
 "metadata": {
  "kernelspec": {
   "display_name": "HybridRAG",
   "language": "python",
   "name": "python3"
  },
  "language_info": {
   "codemirror_mode": {
    "name": "ipython",
    "version": 3
   },
   "file_extension": ".py",
   "mimetype": "text/x-python",
   "name": "python",
   "nbconvert_exporter": "python",
   "pygments_lexer": "ipython3",
   "version": "3.13.2"
  }
 },
 "nbformat": 4,
 "nbformat_minor": 2
}
