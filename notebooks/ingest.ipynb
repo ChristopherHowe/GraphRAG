{
 "cells": [
  {
   "cell_type": "markdown",
   "metadata": {},
   "source": [
    "# Setup"
   ]
  },
  {
   "cell_type": "code",
   "execution_count": 1,
   "metadata": {},
   "outputs": [
    {
     "name": "stderr",
     "output_type": "stream",
     "text": [
      "[nltk_data] Downloading package punkt_tab to /home/chris/nltk_data...\n",
      "[nltk_data]   Package punkt_tab is already up-to-date!\n",
      "Device set to use cuda:0\n"
     ]
    }
   ],
   "source": [
    "from db_funcs import get_all_content, get_db_con, insert_article, insert_question\n",
    "from utils import Sentence_Extractor\n",
    "from neo4j_funcs import Neo4j_Driver\n",
    "from EntityRelationshipExtractor import ER_Extractor\n",
    "from tqdm import tqdm\n",
    "import requests\n",
    "import dotenv\n",
    "from my_qdrant import MyQdrant\n",
    "from sentence_transformers import SentenceTransformer\n",
    "import os\n",
    "\n",
    "dotenv.load_dotenv()\n",
    "\n",
    "neo4j = Neo4j_Driver()\n",
    "sentence_extractor = Sentence_Extractor()\n",
    "er_extractor=ER_Extractor()"
   ]
  },
  {
   "cell_type": "markdown",
   "metadata": {},
   "source": [
    "# SQL Database Creation\n",
    "Fills a sql database with the content from the squad 2.0 Dataset"
   ]
  },
  {
   "cell_type": "code",
   "execution_count": 2,
   "metadata": {},
   "outputs": [
    {
     "name": "stdout",
     "output_type": "stream",
     "text": [
      "Normans\n"
     ]
    },
    {
     "ename": "UniqueViolation",
     "evalue": "duplicate key value violates unique constraint \"questions_pkey\"\nDETAIL:  Key (id)=(56ddde6b9a695914005b9628) already exists.\n",
     "output_type": "error",
     "traceback": [
      "\u001b[31m---------------------------------------------------------------------------\u001b[39m",
      "\u001b[31mUniqueViolation\u001b[39m                           Traceback (most recent call last)",
      "\u001b[36mCell\u001b[39m\u001b[36m \u001b[39m\u001b[32mIn[2]\u001b[39m\u001b[32m, line 14\u001b[39m\n\u001b[32m     12\u001b[39m     article_id = insert_article(cur, topic[\u001b[33m\"\u001b[39m\u001b[33mtitle\u001b[39m\u001b[33m\"\u001b[39m], paragraph[\u001b[33m\"\u001b[39m\u001b[33mcontext\u001b[39m\u001b[33m\"\u001b[39m])\n\u001b[32m     13\u001b[39m     \u001b[38;5;28;01mfor\u001b[39;00m qa \u001b[38;5;129;01min\u001b[39;00m paragraph[\u001b[33m\"\u001b[39m\u001b[33mqas\u001b[39m\u001b[33m\"\u001b[39m]:\n\u001b[32m---> \u001b[39m\u001b[32m14\u001b[39m         \u001b[43minsert_question\u001b[49m\u001b[43m(\u001b[49m\u001b[43mcur\u001b[49m\u001b[43m,\u001b[49m\u001b[43m \u001b[49m\u001b[43mqa\u001b[49m\u001b[43m[\u001b[49m\u001b[33;43m\"\u001b[39;49m\u001b[33;43mid\u001b[39;49m\u001b[33;43m\"\u001b[39;49m\u001b[43m]\u001b[49m\u001b[43m,\u001b[49m\u001b[43m \u001b[49m\u001b[43marticle_id\u001b[49m\u001b[43m,\u001b[49m\u001b[43m \u001b[49m\u001b[43mqa\u001b[49m\u001b[43m[\u001b[49m\u001b[33;43m\"\u001b[39;49m\u001b[33;43mquestion\u001b[39;49m\u001b[33;43m\"\u001b[39;49m\u001b[43m]\u001b[49m\u001b[43m,\u001b[49m\u001b[43m \u001b[49m\u001b[43mqa\u001b[49m\u001b[43m[\u001b[49m\u001b[33;43m\"\u001b[39;49m\u001b[33;43manswers\u001b[39;49m\u001b[33;43m\"\u001b[39;49m\u001b[43m]\u001b[49m\u001b[43m,\u001b[49m\u001b[43m \u001b[49m\u001b[43mqa\u001b[49m\u001b[43m[\u001b[49m\u001b[33;43m\"\u001b[39;49m\u001b[33;43mis_impossible\u001b[39;49m\u001b[33;43m\"\u001b[39;49m\u001b[43m]\u001b[49m\u001b[43m)\u001b[49m\n\u001b[32m     15\u001b[39m conn.commit()\n",
      "\u001b[36mFile \u001b[39m\u001b[32m~/miniconda3/envs/GraphRAG/lib/python3.12/site-packages/db_funcs.py:27\u001b[39m, in \u001b[36minsert_question\u001b[39m\u001b[34m(cur, question_id, article_id, question, answers, is_impossible)\u001b[39m\n\u001b[32m     25\u001b[39m \u001b[38;5;28;01mdef\u001b[39;00m\u001b[38;5;250m \u001b[39m\u001b[34minsert_question\u001b[39m(cur, question_id, article_id, question, answers, is_impossible):\n\u001b[32m     26\u001b[39m     answers_json = json.dumps(answers) \u001b[38;5;28;01mif\u001b[39;00m answers \u001b[38;5;28;01melse\u001b[39;00m json.dumps([])\n\u001b[32m---> \u001b[39m\u001b[32m27\u001b[39m     \u001b[43mcur\u001b[49m\u001b[43m.\u001b[49m\u001b[43mexecute\u001b[49m\u001b[43m(\u001b[49m\u001b[33;43m\"\"\"\u001b[39;49m\n\u001b[32m     28\u001b[39m \u001b[33;43m        INSERT INTO questions (id, article_id, question, answers, is_impossible)\u001b[39;49m\n\u001b[32m     29\u001b[39m \u001b[33;43m        VALUES (\u001b[39;49m\u001b[38;5;132;43;01m%s\u001b[39;49;00m\u001b[33;43m, \u001b[39;49m\u001b[38;5;132;43;01m%s\u001b[39;49;00m\u001b[33;43m, \u001b[39;49m\u001b[38;5;132;43;01m%s\u001b[39;49;00m\u001b[33;43m, \u001b[39;49m\u001b[38;5;132;43;01m%s\u001b[39;49;00m\u001b[33;43m, \u001b[39;49m\u001b[38;5;132;43;01m%s\u001b[39;49;00m\u001b[33;43m);\u001b[39;49m\n\u001b[32m     30\u001b[39m \u001b[33;43m    \u001b[39;49m\u001b[33;43m\"\"\"\u001b[39;49m\u001b[43m,\u001b[49m\u001b[43m \u001b[49m\u001b[43m(\u001b[49m\u001b[43mquestion_id\u001b[49m\u001b[43m,\u001b[49m\u001b[43m \u001b[49m\u001b[43marticle_id\u001b[49m\u001b[43m,\u001b[49m\u001b[43m \u001b[49m\u001b[43mquestion\u001b[49m\u001b[43m,\u001b[49m\u001b[43m \u001b[49m\u001b[43manswers_json\u001b[49m\u001b[43m,\u001b[49m\u001b[43m \u001b[49m\u001b[43mis_impossible\u001b[49m\u001b[43m)\u001b[49m\u001b[43m)\u001b[49m\n",
      "\u001b[31mUniqueViolation\u001b[39m: duplicate key value violates unique constraint \"questions_pkey\"\nDETAIL:  Key (id)=(56ddde6b9a695914005b9628) already exists.\n"
     ]
    }
   ],
   "source": [
    "# Download SQuAD 2.0 dev dataset\n",
    "url = 'https://rajpurkar.github.io/SQuAD-explorer/dataset/dev-v2.0.json'\n",
    "response = requests.get(url)\n",
    "squad_dev = response.json()\n",
    "\n",
    "conn=get_db_con()\n",
    "\n",
    "for topic in squad_dev[\"data\"]:\n",
    "    print(topic['title'])\n",
    "    for paragraph in topic[\"paragraphs\"]:\n",
    "        with conn.cursor() as cur:\n",
    "            article_id = insert_article(cur, topic[\"title\"], paragraph[\"context\"])\n",
    "            for qa in paragraph[\"qas\"]:\n",
    "                insert_question(cur, qa[\"id\"], article_id, qa[\"question\"], qa[\"answers\"], qa[\"is_impossible\"])\n",
    "        conn.commit()"
   ]
  },
  {
   "cell_type": "markdown",
   "metadata": {},
   "source": [
    "# Embedding Ingestion\n",
    "Creates a bunch of embeddings for each of the content blocks and stores it in the qdrant embedding database alongside a content_id"
   ]
  },
  {
   "cell_type": "code",
   "execution_count": null,
   "metadata": {},
   "outputs": [],
   "source": [
    "with get_db_con().cursor() as cur:\n",
    "    content_ids, all_content = get_all_content(cur)\n",
    "\n",
    "model = SentenceTransformer(\"all-MiniLM-L6-v2\")\n",
    "qdrant_client=MyQdrant(os.getenv('QDRANT_COLLECTION_NAME'),os.getenv('QDRANT_VECTOR_SIZE'))\n",
    "\n",
    "print(\"Creating embeddings from content\")\n",
    "content_embeddings=model.encode(all_content)\n",
    "\n",
    "print(\"adding embeddings to db\")\n",
    "qdrant_client.add_points(content_embeddings, content_ids)\n",
    "\n",
    "print(\"embedding db is ready\")"
   ]
  },
  {
   "cell_type": "markdown",
   "metadata": {},
   "source": [
    "# Extract Sentances and Entity Relationships\n",
    "For each content block from the database, extract all sentences from the content block. For each content block, extract all entities and relationships using the model and system defined in the entity relationship extractor. Finally, insert each extracted entity into the neo4j database keeping track of which content block the entity is from. Entities can be from multiple content blocks so neo4j stores an array of content ids for each entity node."
   ]
  },
  {
   "cell_type": "code",
   "execution_count": null,
   "metadata": {},
   "outputs": [],
   "source": [
    "\n",
    "with get_db_con().cursor() as cur:\n",
    "    content_ids, all_content = get_all_content(cur)\n",
    "for content_id, content in tqdm(zip(content_ids, all_content), total=len(content_ids), desc=\"Processing content\"):\n",
    "    sentences = sentence_extractor.get_sentences(content)\n",
    "    triplets=er_extractor.extract_ERs(sentences)\n",
    "    for e in triplets:\n",
    "        neo4j.insert_relationship(e.head, \"entity\", e.type, e.tail, \"entity\", content_id)\n",
    "    "
   ]
  }
 ],
 "metadata": {
  "kernelspec": {
   "display_name": "GraphRAG",
   "language": "python",
   "name": "python3"
  },
  "language_info": {
   "codemirror_mode": {
    "name": "ipython",
    "version": 3
   },
   "file_extension": ".py",
   "mimetype": "text/x-python",
   "name": "python",
   "nbconvert_exporter": "python",
   "pygments_lexer": "ipython3",
   "version": "3.12.9"
  }
 },
 "nbformat": 4,
 "nbformat_minor": 2
}
