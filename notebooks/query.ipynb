{
 "cells": [
  {
   "cell_type": "markdown",
   "id": "a7b24007",
   "metadata": {},
   "source": [
    "# Query\n",
    "describes how to make a query against the system"
   ]
  },
  {
   "cell_type": "code",
   "execution_count": 1,
   "id": "6bbff30d",
   "metadata": {},
   "outputs": [
    {
     "name": "stderr",
     "output_type": "stream",
     "text": [
      "/home/chris/miniconda3/envs/GraphRAG/lib/python3.13/site-packages/tqdm/auto.py:21: TqdmWarning: IProgress not found. Please update jupyter and ipywidgets. See https://ipywidgets.readthedocs.io/en/stable/user_install.html\n",
      "  from .autonotebook import tqdm as notebook_tqdm\n"
     ]
    },
    {
     "name": "stdout",
     "output_type": "stream",
     "text": [
      "Skipping creating collection; 'graphRAG' already exists.\n"
     ]
    },
    {
     "name": "stderr",
     "output_type": "stream",
     "text": [
      "Device set to use cuda:0\n",
      "[nltk_data] Downloading package punkt_tab to /home/chris/nltk_data...\n",
      "[nltk_data]   Package punkt_tab is already up-to-date!\n"
     ]
    },
    {
     "name": "stdout",
     "output_type": "stream",
     "text": [
      "Extracted entities from query: ['normans', 'norma']\n",
      "<Record e=<Node element_id='4:df78cf25-6562-4d50-b033-988dcd83d7b5:8' labels=frozenset({'entity'}) properties={'content_ids': [1, 2, 3, 8, 9, 10, 12, 13, 15, 17, 18, 19, 21, 22, 34], 'name': 'Normans'}> r=<Relationship element_id='5:df78cf25-6562-4d50-b033-988dcd83d7b5:229' nodes=(<Node element_id='4:df78cf25-6562-4d50-b033-988dcd83d7b5:273' labels=frozenset({'entity'}) properties={'content_ids': [34], 'name': 'cultures they conquered'}>, <Node element_id='4:df78cf25-6562-4d50-b033-988dcd83d7b5:8' labels=frozenset({'entity'}) properties={'content_ids': [1, 2, 3, 8, 9, 10, 12, 13, 15, 17, 18, 19, 21, 22, 34], 'name': 'Normans'}>) type='different from' properties={}> related=<Node element_id='4:df78cf25-6562-4d50-b033-988dcd83d7b5:273' labels=frozenset({'entity'}) properties={'content_ids': [34], 'name': 'cultures they conquered'}> r2=<Relationship element_id='5:df78cf25-6562-4d50-b033-988dcd83d7b5:228' nodes=(<Node element_id='4:df78cf25-6562-4d50-b033-988dcd83d7b5:8' labels=frozenset({'entity'}) properties={'content_ids': [1, 2, 3, 8, 9, 10, 12, 13, 15, 17, 18, 19, 21, 22, 34], 'name': 'Normans'}>, <Node element_id='4:df78cf25-6562-4d50-b033-988dcd83d7b5:273' labels=frozenset({'entity'}) properties={'content_ids': [34], 'name': 'cultures they conquered'}>) type='different from' properties={}> n2=<Node element_id='4:df78cf25-6562-4d50-b033-988dcd83d7b5:8' labels=frozenset({'entity'}) properties={'content_ids': [1, 2, 3, 8, 9, 10, 12, 13, 15, 17, 18, 19, 21, 22, 34], 'name': 'Normans'}>>\n"
     ]
    },
    {
     "ename": "NameError",
     "evalue": "name 'exit' is not defined",
     "output_type": "error",
     "traceback": [
      "\u001b[31m---------------------------------------------------------------------------\u001b[39m",
      "\u001b[31mNameError\u001b[39m                                 Traceback (most recent call last)",
      "\u001b[36mCell\u001b[39m\u001b[36m \u001b[39m\u001b[32mIn[1]\u001b[39m\u001b[32m, line 4\u001b[39m\n\u001b[32m      2\u001b[39m query=\u001b[33m\"\u001b[39m\u001b[33mWho were the normans and why were they so famous?\u001b[39m\u001b[33m\"\u001b[39m\n\u001b[32m      3\u001b[39m graphRag=GraphRagQuerier()\n\u001b[32m----> \u001b[39m\u001b[32m4\u001b[39m response=\u001b[43mgraphRag\u001b[49m\u001b[43m.\u001b[49m\u001b[43mquery\u001b[49m\u001b[43m(\u001b[49m\u001b[43mquery\u001b[49m\u001b[43m)\u001b[49m\n\u001b[32m      5\u001b[39m \u001b[38;5;28mprint\u001b[39m(response)\n",
      "\u001b[36mFile \u001b[39m\u001b[32m~/personal/GraphRAG/graphRAGQuerier.py:32\u001b[39m, in \u001b[36mGraphRagQuerier.query\u001b[39m\u001b[34m(self, prompt)\u001b[39m\n\u001b[32m     30\u001b[39m \u001b[38;5;28;01mfor\u001b[39;00m node \u001b[38;5;129;01min\u001b[39;00m nodes:\n\u001b[32m     31\u001b[39m     \u001b[38;5;28mprint\u001b[39m(node)\n\u001b[32m---> \u001b[39m\u001b[32m32\u001b[39m     \u001b[43mexit\u001b[49m\n",
      "\u001b[31mNameError\u001b[39m: name 'exit' is not defined"
     ]
    }
   ],
   "source": [
    "from graphRAGQuerier import GraphRagQuerier\n",
    "query=\"Who were the normans and why were they so famous?\"\n",
    "graphRag=GraphRagQuerier()\n",
    "response=graphRag.query(query)\n",
    "print(response)"
   ]
  }
 ],
 "metadata": {
  "kernelspec": {
   "display_name": "GraphRAG",
   "language": "python",
   "name": "python3"
  },
  "language_info": {
   "codemirror_mode": {
    "name": "ipython",
    "version": 3
   },
   "file_extension": ".py",
   "mimetype": "text/x-python",
   "name": "python",
   "nbconvert_exporter": "python",
   "pygments_lexer": "ipython3",
   "version": "3.13.2"
  }
 },
 "nbformat": 4,
 "nbformat_minor": 5
}
