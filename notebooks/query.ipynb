{
 "cells": [
  {
   "cell_type": "markdown",
   "id": "a7b24007",
   "metadata": {},
   "source": [
    "# Query\n",
    "describes how to make a query against the system"
   ]
  },
  {
   "cell_type": "code",
   "execution_count": null,
   "id": "6bbff30d",
   "metadata": {},
   "outputs": [
    {
     "name": "stderr",
     "output_type": "stream",
     "text": [
      "/home/chris/miniconda3/envs/GraphRAG/lib/python3.13/site-packages/tqdm/auto.py:21: TqdmWarning: IProgress not found. Please update jupyter and ipywidgets. See https://ipywidgets.readthedocs.io/en/stable/user_install.html\n",
      "  from .autonotebook import tqdm as notebook_tqdm\n"
     ]
    },
    {
     "name": "stdout",
     "output_type": "stream",
     "text": [
      "Skipping creating collection; 'graphRAG' already exists.\n"
     ]
    },
    {
     "name": "stderr",
     "output_type": "stream",
     "text": [
      "Device set to use cuda:0\n",
      "[nltk_data] Downloading package punkt_tab to /home/chris/nltk_data...\n",
      "[nltk_data]   Package punkt_tab is already up-to-date!\n"
     ]
    },
    {
     "name": "stdout",
     "output_type": "stream",
     "text": [
      "Related embeddings from Qdrant: [(0.6542791, {'id': 1}), (0.6167123, {'id': 2}), (0.5862309, {'id': 24}), (0.5813081, {'id': 23}), (0.5758892, {'id': 7}), (0.5604168, {'id': 8}), (0.56008154, {'id': 3}), (0.55578566, {'id': 17}), (0.5540453, {'id': 36}), (0.5525917, {'id': 22})]\n",
      "Extracted entities from query: ['normans', 'norma']\n",
      "Relationships from Neo4j: [('Normans', 'different from', 'cultures they conquered'), ('cultures they conquered', 'different from', 'Normans'), ('Normans', 'different from', 'cultures they conquered'), ('cultures they conquered', 'different from', 'Normans'), ('Normans', 'country', 'Wales'), ('Wales', 'located in the administrative territorial entity', 'British'), ('Normans', 'country', 'Wales'), ('Wales', 'contains administrative territorial entity', 'British'), ('Normans', 'country', 'Wales'), ('Wales', 'country', 'United Kingdom'), ('Normans', 'country', 'Wales'), ('Wales', 'contains administrative territorial entity', 'United Kingdom'), ('Normans', 'country', 'Wales'), ('Wales', 'location', 'long period of slow conquest'), ('Normans', 'replaced by', 'Anglo-Saxons'), ('Anglo-Saxons', 'replaces', 'Normans'), ('Normans', 'replaces', 'Anglo-Saxons'), ('Anglo-Saxons', 'replaced by', 'Normans'), ('Normans', 'country', 'England'), ('England', 'country', 'News of the two battles'), ('Normans', 'country', 'England'), ('England', 'capital', 'London'), ('Normans', 'country', 'England'), ('England', 'located in the administrative territorial entity', 'Medieval vineyards in England'), ('Normans', 'country', 'England'), ('England', 'continent', 'Europe'), ('Normans', 'country', 'England'), ('England', 'located in the administrative territorial entity', 'East Smithfield burial site'), ('Normans', 'country', 'England'), ('England', 'located in the administrative territorial entity', 'British'), ('Normans', 'country', 'England'), ('England', 'contains administrative territorial entity', 'British'), ('Normans', 'country', 'England'), ('England', 'country of origin', 'Romanesque idiom'), ('Normans', 'country', 'England'), ('England', 'located in or next to body of water', 'English Channel'), ('Normans', 'has part', 'Albanians'), ('Albanians', 'part of', 'Normans'), ('Normans', 'part of', 'Albanians'), ('Albanians', 'has part', 'Normans'), ('Normans', 'different from', 'Franks'), ('Franks', 'different from', 'Normans'), ('Normans', 'different from', 'Franks'), ('Franks', 'ethnic group', 'Carolingian dynasty'), ('Normans', 'different from', 'Franks'), ('Franks', 'different from', 'Normans'), ('Normans', 'different from', 'Franks'), ('Franks', 'ethnic group', 'Carolingian dynasty'), ('Normans', 'different from', 'cultures they conquered'), ('Normans', 'different from', 'cultures they conquered'), ('Normans', 'country', 'Wales'), ('Normans', 'participant', 'Norman Conquest of England'), ('Normans', 'ethnic group', 'Robert the Bruce'), ('Normans', 'instance of', 'ethnicity'), ('Normans', 'subclass of', 'natives'), ('Normans', 'replaced by', 'Anglo-Saxons'), ('Normans', 'replaces', 'Anglo-Saxons'), ('Normans', 'country', 'England'), ('Normans', 'has part', 'Albanians'), ('Normans', 'part of', 'Albanians'), ('Normans', 'participant', 'retreat to Italy'), ('Normans', 'ethnic group', 'Raimbaud'), ('Normans', 'ethnic group', 'Robert Crispin'), ('Normans', 'different from', 'Franks'), ('Normans', 'different from', 'Franks'), ('Normans', 'ethnic group', 'Norman Italy'), ('Normans', 'has part', 'Normant'), ('Normans', 'ethnic group', 'Romanesque architecture'), ('Normans', 'instance of', 'ethnic identity')]\n",
      "Related content from Neo4j: {1: 2, 2: 2, 3: 2, 8: 3, 9: 2, 10: 2, 12: 2, 13: 2, 15: 3, 17: 3, 18: 2, 19: 2, 21: 2, 22: 3, 34: 2, 23: 2, 220: 2, 317: 3, 197: 1, 657: 1, 694: 1, 1038: 1, 1045: 1, 1118: 1, 1124: 1, 1125: 1, 1126: 1, 1127: 1, 1133: 1, 1138: 1, 1139: 3, 1141: 1, 1147: 1, 1148: 1, 1154: 1, 1156: 1, 1160: 1, 127: 1, 135: 1, 138: 2, 343: 1, 543: 1, 547: 1, 597: 1, 950: 1, 953: 1, 967: 1, 984: 1, 32: 2, 486: 2, 477: 2, 863: 2, 997: 2, 204: 1, 215: 1, 490: 1, 1129: 2, 200: 1, 252: 1, 360: 1, 474: 1, 476: 1, 478: 1, 492: 1, 494: 1, 603: 1, 684: 1, 776: 1, 779: 1, 933: 2, 934: 1, 935: 2, 1030: 1, 1044: 1, 1048: 1, 1053: 1, 1054: 1, 1131: 1, 1152: 1, 923: 1, 932: 1, 7: 2}\n",
      "Top Qdrant results: [(0.6542791, {'id': 1}), (0.6167123, {'id': 2}), (0.5862309, {'id': 24})]\n",
      "Qdrant content IDs: [1, 2, 24]\n",
      "Top Neo4j results: [(8, 3), (15, 3), (17, 3)]\n",
      "Neo4j content IDs: [8, 15, 17]\n",
      "All combined content IDs: [1, 2, 8, 15, 17, 24]\n"
     ]
    }
   ],
   "source": [
    "from graphRAGQuerier import GraphRagQuerier\n",
    "import pandas as pd\n",
    "from utils import display_prompt_and_output\n",
    "\n",
    "graphRag=GraphRagQuerier()\n"
   ]
  },
  {
   "cell_type": "code",
   "execution_count": null,
   "id": "2efb5bc7",
   "metadata": {},
   "outputs": [],
   "source": [
    "query=\"Who were the normans and why were they so famous?\"\n",
    "full_prompt, response=graphRag.query(query)\n",
    "display_prompt_and_output(full_prompt, response, display)\n"
   ]
  }
 ],
 "metadata": {
  "kernelspec": {
   "display_name": "GraphRAG",
   "language": "python",
   "name": "python3"
  },
  "language_info": {
   "codemirror_mode": {
    "name": "ipython",
    "version": 3
   },
   "file_extension": ".py",
   "mimetype": "text/x-python",
   "name": "python",
   "nbconvert_exporter": "python",
   "pygments_lexer": "ipython3",
   "version": "3.13.2"
  }
 },
 "nbformat": 4,
 "nbformat_minor": 5
}
