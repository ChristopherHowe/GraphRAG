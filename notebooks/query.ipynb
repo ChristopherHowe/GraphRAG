{
 "cells": [
  {
   "cell_type": "markdown",
   "id": "a7b24007",
   "metadata": {},
   "source": [
    "# Query\n",
    "describes how to make a query against the system"
   ]
  },
  {
   "cell_type": "code",
   "execution_count": 2,
   "id": "6bbff30d",
   "metadata": {},
   "outputs": [
    {
     "name": "stdout",
     "output_type": "stream",
     "text": [
      "Skipping creating collection; 'graphRAG' already exists.\n"
     ]
    },
    {
     "name": "stderr",
     "output_type": "stream",
     "text": [
      "Device set to use cuda:0\n",
      "[nltk_data] Downloading package punkt_tab to /home/chris/nltk_data...\n",
      "[nltk_data]   Package punkt_tab is already up-to-date!\n"
     ]
    }
   ],
   "source": [
    "from graphRAGQuerier import GraphRagQuerier\n",
    "from utils import display_prompt_and_output\n",
    "\n",
    "graphRag=GraphRagQuerier()\n"
   ]
  },
  {
   "cell_type": "code",
   "execution_count": null,
   "id": "2efb5bc7",
   "metadata": {},
   "outputs": [
    {
     "name": "stdout",
     "output_type": "stream",
     "text": [
      "[ 2.32640374e-02 -3.73119600e-02 -1.83223765e-02  5.11059090e-02\n",
      "  2.23958530e-02  6.23679720e-02 -3.59945819e-02 -1.03443451e-02\n",
      " -4.44606096e-02 -1.01227142e-01  5.37174270e-02 -1.10013308e-02\n",
      " -2.91585159e-02 -3.98058705e-02 -7.29379132e-02  5.80559745e-02\n",
      " -2.62247808e-02  2.45561358e-02 -2.74838395e-02 -4.95747663e-05\n",
      " -7.23238736e-02  6.24432834e-03  2.26464123e-02  8.77194852e-02\n",
      " -2.05773730e-02  3.19589265e-02  1.51275788e-02  2.98771970e-02\n",
      "  2.05615964e-02 -1.53651610e-02 -6.41883612e-02 -4.01911847e-02\n",
      "  5.68182170e-02 -5.66188656e-02 -5.35672810e-03  6.13958500e-02\n",
      "  6.34375811e-02  2.30870284e-02 -1.30513767e-02 -2.62460038e-02\n",
      " -6.22187629e-02 -2.25902144e-02  6.91733733e-02  5.38191805e-03\n",
      " -5.64601906e-02  1.91277743e-03  1.13533000e-02  6.83911219e-02\n",
      "  5.43757603e-02  4.46738936e-02  3.74153405e-02  4.00119182e-03\n",
      "  3.36257219e-02 -1.29891947e-01  2.57270057e-02  3.21906223e-03\n",
      " -4.24171388e-02 -3.55825610e-02  1.90246608e-02 -2.36292258e-02\n",
      " -4.99586202e-03  6.47419458e-03 -3.78113203e-02 -2.85276044e-02\n",
      " -8.40183571e-02  2.97090504e-02  7.80306533e-02  2.36266963e-02\n",
      " -7.55573623e-03 -2.81797387e-02 -6.85999095e-02 -3.84497046e-02\n",
      "  3.19156982e-02 -3.11401188e-02 -8.04037377e-02 -1.71660390e-02\n",
      " -1.00918986e-01 -2.69165412e-02 -7.80234709e-02  2.75420602e-02\n",
      "  5.98969646e-02 -4.00356799e-02 -5.24433553e-02 -3.07230912e-02\n",
      "  5.65702133e-02 -2.44207513e-02  1.64119303e-02 -2.07537264e-02\n",
      "  2.88835410e-02 -3.57977510e-03 -1.99905206e-02 -1.61957294e-01\n",
      " -7.11643994e-02 -6.97631203e-03  7.61781707e-02  2.59057600e-02\n",
      "  2.37000193e-02  7.25868577e-03  1.12617714e-02  2.47939061e-02\n",
      "  5.99170336e-03 -7.91450683e-03  1.76170655e-02  7.98405036e-02\n",
      " -3.25580277e-02  1.84459016e-02 -6.64700866e-02  4.54700403e-02\n",
      " -1.65604781e-02 -9.84586030e-03  3.66536863e-02 -4.30157110e-02\n",
      "  1.61365829e-02 -1.90779325e-02  1.17564559e-01 -4.04793955e-02\n",
      "  3.95366997e-02  2.37583034e-02 -5.61226532e-02  2.36054584e-02\n",
      "  1.83957778e-02  5.33783324e-02 -1.68288685e-02  4.49407510e-02\n",
      " -4.35072184e-02  7.44592249e-02 -5.48268557e-02 -4.35863277e-33\n",
      "  1.02500860e-02  3.30574773e-02 -5.22655249e-02  1.08632065e-01\n",
      "  1.72540285e-02 -5.69139645e-02 -2.00755335e-02  4.01579179e-02\n",
      "  1.89588889e-02 -3.44182663e-02  9.53816995e-02 -7.21589550e-02\n",
      " -1.54446075e-02 -7.50639513e-02 -2.46867761e-02 -2.43760576e-03\n",
      " -7.97373988e-03 -5.75086847e-02  2.99391840e-02 -4.11473513e-02\n",
      " -6.83672801e-02  1.20239779e-01  2.53063394e-03  4.67119776e-02\n",
      " -5.59625551e-02 -5.94410822e-02 -4.32768790e-03 -2.96147745e-02\n",
      "  8.86027608e-03  2.87237726e-02  7.31918514e-02 -8.25388283e-02\n",
      " -7.07374886e-02  1.99831650e-02  1.17117763e-01  1.34470053e-02\n",
      " -1.75300892e-02 -1.92994952e-01  1.41332215e-02  8.51504877e-02\n",
      "  8.83166119e-02 -1.02147283e-02  8.12052842e-03  5.18347137e-04\n",
      " -2.67961286e-02  7.76212104e-03 -2.38888599e-02  3.63277644e-02\n",
      " -1.81978662e-02 -6.18694758e-04 -9.57700517e-03  1.96648482e-02\n",
      " -1.11980170e-01 -6.91781789e-02  1.65747385e-02 -8.62273723e-02\n",
      "  1.66940840e-03  5.25717475e-02 -6.89414591e-02  9.66873206e-03\n",
      " -1.48368627e-02  1.02574147e-01  4.43404466e-02 -3.74993235e-02\n",
      " -6.95319697e-02 -3.58673222e-02 -1.18883578e-02  5.71746826e-02\n",
      " -1.22981668e-02  5.86438626e-02  2.60827746e-02  7.74509534e-02\n",
      "  2.65073869e-02 -2.50818040e-02 -1.64461788e-02  5.99697307e-02\n",
      " -3.83678116e-02  1.46693625e-02 -9.91578121e-03  6.01063445e-02\n",
      " -2.58337017e-02  1.77881662e-02 -3.86263132e-02  1.32451188e-02\n",
      " -5.27538918e-02 -2.61937231e-02  2.59018242e-02 -2.42336057e-02\n",
      " -1.38524510e-02 -7.94849545e-02 -5.48189655e-02  2.50334013e-02\n",
      "  2.68835220e-02 -9.97221693e-02 -6.49999827e-02  9.68710660e-34\n",
      " -4.03194688e-02  4.63468358e-02  4.58652675e-02 -9.67629626e-03\n",
      " -1.83575321e-02  5.06807342e-02 -1.12706227e-02  6.17709570e-03\n",
      "  1.25186779e-02 -2.61681378e-02 -7.45761916e-02  3.20483632e-02\n",
      "  3.22947674e-03 -1.17710337e-01  5.71287051e-02 -3.59373279e-02\n",
      "  1.83138568e-02 -9.34932455e-02  2.61033345e-02 -1.38759948e-02\n",
      " -2.75264736e-02 -5.58824372e-03 -4.71132062e-02 -2.20987815e-02\n",
      " -1.64324068e-03  7.17108920e-02 -9.99524593e-02 -2.45442335e-02\n",
      " -2.59429067e-02  4.81125116e-02  7.50538483e-02 -5.68163022e-03\n",
      " -1.91281773e-02 -2.94169039e-02 -1.63409133e-02  9.80684236e-02\n",
      " -9.14475136e-03  7.35739619e-02 -2.23595859e-03  1.97411105e-02\n",
      "  3.03338398e-03 -3.82458642e-02  5.84578142e-02  5.06116115e-02\n",
      " -8.35142583e-02  2.61324979e-02  2.07173992e-02  1.28247449e-02\n",
      "  4.99852747e-02  1.26004340e-02 -2.11818442e-02  7.36868382e-02\n",
      " -1.44908866e-02 -5.29992208e-03 -3.25364992e-02 -3.90873402e-02\n",
      "  3.09788832e-03  2.52091289e-02 -1.82046427e-03  1.36624843e-01\n",
      " -5.05120829e-02 -1.09121967e-02  7.93551840e-03  8.26745480e-02\n",
      " -5.38197206e-03  5.08184487e-04 -9.53613371e-02 -5.89942234e-03\n",
      " -7.51020461e-02 -6.10632487e-02 -1.04514891e-02  4.71809553e-03\n",
      "  5.22016212e-02  5.09580299e-02 -1.30029786e-02 -2.80507486e-02\n",
      " -5.46615431e-03 -3.86381173e-03 -1.12194577e-02  1.04547879e-02\n",
      " -5.94508871e-02 -4.62977029e-02 -6.08602054e-02  6.29397407e-02\n",
      " -2.88965739e-03  3.83858383e-02  4.45321202e-02  5.99229187e-02\n",
      "  3.78184691e-02 -8.06784257e-02  1.05822213e-01 -1.61791053e-02\n",
      "  8.52143243e-02 -6.20288178e-02  6.12490140e-02 -1.73574666e-08\n",
      " -1.80928893e-02  4.45798263e-02 -1.24328956e-02 -1.23076821e-02\n",
      " -3.15112844e-02 -3.82226929e-02  3.10005769e-02  8.18267986e-02\n",
      " -7.37613365e-02  5.36375381e-02 -4.94818911e-02  7.15024322e-02\n",
      " -2.09614206e-02 -4.88192448e-03  1.41381815e-01 -5.85492253e-02\n",
      " -3.33500803e-02 -7.19842315e-02 -7.18590617e-03  1.32619007e-03\n",
      "  5.72339222e-02 -3.74357328e-02 -1.64775085e-02 -9.46687832e-02\n",
      " -7.96586797e-02 -1.47938440e-02  1.33367762e-01 -2.83405278e-02\n",
      "  4.62613404e-02  4.44339328e-02  1.21638179e-02 -8.66492279e-03\n",
      " -6.47622272e-02 -3.14624235e-02 -1.91306614e-03 -2.57502813e-02\n",
      " -5.88571094e-03 -7.23726898e-02 -7.06803650e-02  2.49162503e-03\n",
      "  3.17605957e-02  6.94672242e-02  1.35915698e-02  5.12186065e-02\n",
      "  1.32284999e-01  7.81038925e-02  5.69130555e-02  5.01220040e-02\n",
      " -1.45109296e-02  1.37438662e-02  7.04663619e-02  6.11538254e-02\n",
      "  7.93714151e-02  1.60525069e-01 -5.20900562e-02 -7.08828419e-02\n",
      "  3.64416838e-02 -2.60311775e-02 -1.02480885e-03  7.21154828e-03\n",
      " -1.29082473e-02 -1.70964561e-02  7.70133436e-02 -1.22766877e-02]\n",
      "Related embeddings from Qdrant: [(0.6542791, {'id': 1}), (0.6167123, {'id': 2}), (0.5862309, {'id': 24}), (0.5813081, {'id': 23}), (0.5758892, {'id': 7}), (0.5604168, {'id': 8}), (0.56008154, {'id': 3}), (0.55578566, {'id': 17}), (0.5540453, {'id': 36}), (0.5525917, {'id': 22})]\n",
      "Extracted entities from query: ['normans', 'norma']\n",
      "Relationships from Neo4j: [('Normans', 'different from', 'cultures they conquered'), ('cultures they conquered', 'different from', 'Normans'), ('Normans', 'different from', 'cultures they conquered'), ('cultures they conquered', 'different from', 'Normans'), ('Normans', 'country', 'Wales'), ('Wales', 'located in the administrative territorial entity', 'British'), ('Normans', 'country', 'Wales'), ('Wales', 'contains administrative territorial entity', 'British'), ('Normans', 'country', 'Wales'), ('Wales', 'country', 'United Kingdom'), ('Normans', 'country', 'Wales'), ('Wales', 'contains administrative territorial entity', 'United Kingdom'), ('Normans', 'country', 'Wales'), ('Wales', 'location', 'long period of slow conquest'), ('Normans', 'replaced by', 'Anglo-Saxons'), ('Anglo-Saxons', 'replaces', 'Normans'), ('Normans', 'replaces', 'Anglo-Saxons'), ('Anglo-Saxons', 'replaced by', 'Normans'), ('Normans', 'country', 'England'), ('England', 'continent', 'Europe'), ('Normans', 'country', 'England'), ('England', 'located in the administrative territorial entity', 'East Smithfield burial site'), ('Normans', 'country', 'England'), ('England', 'located in the administrative territorial entity', 'British'), ('Normans', 'country', 'England'), ('England', 'contains administrative territorial entity', 'British'), ('Normans', 'country', 'England'), ('England', 'country of origin', 'Romanesque idiom'), ('Normans', 'country', 'England'), ('England', 'located in or next to body of water', 'English Channel'), ('Normans', 'has part', 'Albanians'), ('Albanians', 'part of', 'Normans'), ('Normans', 'part of', 'Albanians'), ('Albanians', 'has part', 'Normans'), ('Normans', 'different from', 'Franks'), ('Franks', 'different from', 'Normans'), ('Normans', 'different from', 'Franks'), ('Franks', 'ethnic group', 'Carolingian dynasty'), ('Normans', 'different from', 'Franks'), ('Franks', 'different from', 'Normans'), ('Normans', 'different from', 'Franks'), ('Franks', 'ethnic group', 'Carolingian dynasty'), ('Normans', 'different from', 'cultures they conquered'), ('Normans', 'different from', 'cultures they conquered'), ('Normans', 'country', 'Wales'), ('Normans', 'participant', 'Norman Conquest of England'), ('Normans', 'ethnic group', 'Robert the Bruce'), ('Normans', 'instance of', 'ethnicity'), ('Normans', 'subclass of', 'natives'), ('Normans', 'replaced by', 'Anglo-Saxons'), ('Normans', 'replaces', 'Anglo-Saxons'), ('Normans', 'country', 'England'), ('Normans', 'has part', 'Albanians'), ('Normans', 'part of', 'Albanians'), ('Normans', 'participant', 'retreat to Italy'), ('Normans', 'ethnic group', 'Raimbaud'), ('Normans', 'ethnic group', 'Robert Crispin'), ('Normans', 'different from', 'Franks'), ('Normans', 'different from', 'Franks'), ('Normans', 'ethnic group', 'Norman Italy'), ('Normans', 'has part', 'Normant'), ('Normans', 'ethnic group', 'Romanesque architecture'), ('Normans', 'instance of', 'ethnic identity')]\n",
      "Related content from Neo4j: {1: 2, 2: 2, 3: 2, 8: 3, 9: 2, 10: 2, 12: 2, 13: 2, 15: 3, 17: 3, 18: 2, 19: 2, 21: 2, 22: 3, 34: 2, 23: 2, 220: 2, 317: 3, 197: 1, 127: 1, 135: 1, 138: 2, 343: 1, 543: 1, 547: 1, 597: 1, 32: 2, 486: 2, 477: 2, 200: 1, 252: 1, 360: 1, 474: 1, 476: 1, 478: 1, 492: 1, 494: 1, 603: 1, 7: 2}\n",
      "Top Qdrant results: [(0.6542791, {'id': 1}), (0.6167123, {'id': 2}), (0.5862309, {'id': 24})]\n",
      "Qdrant content IDs: [1, 2, 24]\n",
      "Top Neo4j results: [(8, 3), (15, 3), (17, 3)]\n",
      "Neo4j content IDs: [8, 15, 17]\n",
      "All combined content IDs: [1, 2, 8, 15, 17, 24]\n"
     ]
    }
   ],
   "source": [
    "query=\"Who were the normans and why were they so famous?\"\n",
    "full_prompt, response=graphRag.query(query)\n",
    "display_prompt_and_output(full_prompt, response, display)\n"
   ]
  }
 ],
 "metadata": {
  "kernelspec": {
   "display_name": "GraphRAG",
   "language": "python",
   "name": "python3"
  },
  "language_info": {
   "codemirror_mode": {
    "name": "ipython",
    "version": 3
   },
   "file_extension": ".py",
   "mimetype": "text/x-python",
   "name": "python",
   "nbconvert_exporter": "python",
   "pygments_lexer": "ipython3",
   "version": "3.12.9"
  }
 },
 "nbformat": 4,
 "nbformat_minor": 5
}
