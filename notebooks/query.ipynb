{
 "cells": [
  {
   "cell_type": "markdown",
   "id": "a7b24007",
   "metadata": {},
   "source": [
    "# Query\n",
    "describes how to make a query against the system"
   ]
  },
  {
   "cell_type": "code",
   "execution_count": null,
   "id": "6bbff30d",
   "metadata": {},
   "outputs": [
    {
     "name": "stdout",
     "output_type": "stream",
     "text": [
      "Skipping creating collection; 'graphRAG' already exists.\n"
     ]
    },
    {
     "name": "stderr",
     "output_type": "stream",
     "text": [
      "Device set to use cuda:0\n",
      "[nltk_data] Downloading package punkt_tab to /home/chris/nltk_data...\n",
      "[nltk_data]   Package punkt_tab is already up-to-date!\n"
     ]
    },
    {
     "data": {
      "text/html": [
       "<table border=\"1\" class=\"dataframe\">\n",
       "  <thead>\n",
       "    <tr style=\"text-align: right;\">\n",
       "      <th>Full Prompt</th>\n",
       "      <th>Response</th>\n",
       "    </tr>\n",
       "  </thead>\n",
       "  <tbody>\n",
       "    <tr>\n",
       "      <td>Given the following context:\\nRelevant Articles:\\nThe Normans (Norman: Nourmands; French: Normands; Latin: Normanni) were the people who in the 10th and 11th centuries gave their name to Normandy, a region in France. They were descended from Norse (\"Norman\" comes from \"Norseman\") raiders and pirates from Denmark, Iceland and Norway who, under their leader Rollo, agreed to swear fealty to King Charles III of West Francia. Through generations of assimilation and mixing with the native Frankish and Roman-Gaulish populations, their descendants would gradually merge with the Carolingian-based cultures of West Francia. The distinct cultural and ethnic identity of the Normans emerged initially in the first half of the 10th century, and it continued to evolve over the succeeding centuries.\\n---\\nThe Norman dynasty had a major political, cultural and military impact on medieval Europe and even the Near East. The Normans were famed for their martial spirit and eventually for their Christian piety, becoming exponents of the Catholic orthodoxy into which they assimilated. They adopted the Gallo-Romance language of the Frankish land they settled, their dialect becoming known as Norman, Normaund or Norman French, an important literary language. The Duchy of Normandy, which they formed by treaty with the French crown, was a great fief of medieval France, and under Richard I of Normandy was forged into a cohesive and formidable principality in feudal tenure. The Normans are noted both for their culture, such as their unique Romanesque architecture and musical traditions, and for their significant military accomplishments and innovations. Norman adventurers founded the Kingdom of Sicily under Roger II after conquering southern Italy on the Saracens and Byzantines, and an expedition on behalf of their duke, William the Conqueror, led to the Norman conquest of England at the Battle of Hastings in 1066. Norman cultural and military influence spread from these new European centres to the Crusader states of the Near East, where their prince Bohemond I founded the Principality of Antioch in the Levant, to Scotland and Wales in Great Britain, to Ireland, and to the coasts of north Africa and the Canary Islands.\\n---\\nSoon after the Normans began to enter Italy, they entered the Byzantine Empire and then Armenia, fighting against the Pechenegs, the Bulgars, and especially the Seljuk Turks. Norman mercenaries were first encouraged to come to the south by the Lombards to act against the Byzantines, but they soon fought in Byzantine service in Sicily. They were prominent alongside Varangian and Lombard contingents in the Sicilian campaign of George Maniaces in 1038–40. There is debate whether the Normans in Greek service actually were from Norman Italy, and it now seems likely only a few came from there. It is also unknown how many of the \"Franks\", as the Byzantines called them, were Normans and not other Frenchmen.\\n---\\nThe Normans were in contact with England from an early date. Not only were their original Viking brethren still ravaging the English coasts, they occupied most of the important ports opposite England across the English Channel. This relationship eventually produced closer ties of blood through the marriage of Emma, sister of Duke Richard II of Normandy, and King Ethelred II of England. Because of this, Ethelred fled to Normandy in 1013, when he was forced from his kingdom by Sweyn Forkbeard. His stay in Normandy (until 1016) influenced him and his sons by Emma, who stayed in Normandy after Cnut the Great's conquest of the isle.\\n---\\nIn 1066, Duke William II of Normandy conquered England killing King Harold II at the Battle of Hastings. The invading Normans and their descendants replaced the Anglo-Saxons as the ruling class of England. The nobility of England were part of a single Normans culture and many had lands on both sides of the channel. Early Norman kings of England, as Dukes of Normandy, owed homage to the King of France for their land on the continent. They considered England to be their most important holding (it brought with it the title of King—an important status symbol).\\n\\nKnowledge Graph Relationships:\\n('Normans', 'different from', 'cultures they conquered')\\n('cultures they conquered', 'different from', 'Normans')\\n('Normans', 'different from', 'cultures they conquered')\\n('cultures they conquered', 'different from', 'Normans')\\n('Normans', 'country', 'Wales')\\n('Wales', 'located in the administrative territorial entity', 'British')\\n('Normans', 'country', 'Wales')\\n('Wales', 'contains administrative territorial entity', 'British')\\n('Normans', 'country', 'Wales')\\n('Wales', 'country', 'United Kingdom')\\n('Normans', 'country', 'Wales')\\n('Wales', 'contains administrative territorial entity', 'United Kingdom')\\n('Normans', 'country', 'Wales')\\n('Wales', 'location', 'long period of slow conquest')\\n('Normans', 'replaced by', 'Anglo-Saxons')\\n('Anglo-Saxons', 'replaces', 'Normans')\\n('Normans', 'replaces', 'Anglo-Saxons')\\n('Anglo-Saxons', 'replaced by', 'Normans')\\n('Normans', 'country', 'England')\\n('England', 'continent', 'Europe')\\n('Normans', 'country', 'England')\\n('England', 'located in the administrative territorial entity', 'East Smithfield burial site')\\n('Normans', 'country', 'England')\\n('England', 'located in the administrative territorial entity', 'British')\\n('Normans', 'country', 'England')\\n('England', 'contains administrative territorial entity', 'British')\\n('Normans', 'country', 'England')\\n('England', 'country of origin', 'Romanesque idiom')\\n('Normans', 'country', 'England')\\n('England', 'located in or next to body of water', 'English Channel')\\n('Normans', 'has part', 'Albanians')\\n('Albanians', 'part of', 'Normans')\\n('Normans', 'part of', 'Albanians')\\n('Albanians', 'has part', 'Normans')\\n('Normans', 'different from', 'Franks')\\n('Franks', 'different from', 'Normans')\\n('Normans', 'different from', 'Franks')\\n('Franks', 'ethnic group', 'Carolingian dynasty')\\n('Normans', 'different from', 'Franks')\\n('Franks', 'different from', 'Normans')\\n('Normans', 'different from', 'Franks')\\n('Franks', 'ethnic group', 'Carolingian dynasty')\\n('Normans', 'different from', 'cultures they conquered')\\n('Normans', 'different from', 'cultures they conquered')\\n('Normans', 'country', 'Wales')\\n('Normans', 'participant', 'Norman Conquest of England')\\n('Normans', 'ethnic group', 'Robert the Bruce')\\n('Normans', 'instance of', 'ethnicity')\\n('Normans', 'subclass of', 'natives')\\n('Normans', 'replaced by', 'Anglo-Saxons')\\n('Normans', 'replaces', 'Anglo-Saxons')\\n('Normans', 'country', 'England')\\n('Normans', 'has part', 'Albanians')\\n('Normans', 'part of', 'Albanians')\\n('Normans', 'participant', 'retreat to Italy')\\n('Normans', 'ethnic group', 'Raimbaud')\\n('Normans', 'ethnic group', 'Robert Crispin')\\n('Normans', 'different from', 'Franks')\\n('Normans', 'different from', 'Franks')\\n('Normans', 'ethnic group', 'Norman Italy')\\n('Normans', 'has part', 'Normant')\\n('Normans', 'ethnic group', 'Romanesque architecture')\\n('Normans', 'instance of', 'ethnic identity')\\n\\nAnswer the question:\\nWho were the normans and why were they so famous?</td>\n",
       "      <td>The Norman DyndaSyphons are a distinct cultural and ethnic group, who had a major political, cultural and military impact on medieval Europe, particularly in France. They were famous for their martial spirit, fame, language, literacy, linguistic, culture, and vocationism. The Normaund or Normandy, an important literary languaine of the Francois, the Gueux, andy Prin'tà the Frenchiean dialect whichwee</td>\n",
       "    </tr>\n",
       "  </tbody>\n",
       "</table>"
      ],
      "text/plain": [
       "<IPython.core.display.HTML object>"
      ]
     },
     "metadata": {},
     "output_type": "display_data"
    }
   ],
   "source": [
    "from graphRAGQuerier import GraphRagQuerier\n",
    "import pandas as pd\n",
    "query=\"Who were the normans and why were they so famous?\"\n",
    "graphRag=GraphRagQuerier()\n",
    "full_prompt, response=graphRag.query(query)\n",
    "# Create an HTML table to display the outputs side by side with newlines rendered\n",
    "html_content = f\"\"\"\n",
    "<table style=\"width:100%; border: 1px solid black; border-collapse: collapse;\">\n",
    "    <tr>\n",
    "        <th style=\"border: 1px solid black; padding: 10px;\">Full Prompt</th>\n",
    "        <th style=\"border: 1px solid black; padding: 10px;\">Response</th>\n",
    "    </tr>\n",
    "    <tr>\n",
    "        <td style=\"border: 1px solid black; padding: 10px; white-space: pre-wrap;\">{full_prompt}</td>\n",
    "        <td style=\"border: 1px solid black; padding: 10px; white-space: pre-wrap;\">{response}</td>\n",
    "    </tr>\n",
    "</table>\n",
    "\"\"\"\n",
    "\n",
    "# Display the HTML content\n",
    "display(HTML(html_content))\n"
   ]
  }
 ],
 "metadata": {
  "kernelspec": {
   "display_name": "GraphRAG",
   "language": "python",
   "name": "python3"
  },
  "language_info": {
   "codemirror_mode": {
    "name": "ipython",
    "version": 3
   },
   "file_extension": ".py",
   "mimetype": "text/x-python",
   "name": "python",
   "nbconvert_exporter": "python",
   "pygments_lexer": "ipython3",
   "version": "3.13.2"
  }
 },
 "nbformat": 4,
 "nbformat_minor": 5
}
