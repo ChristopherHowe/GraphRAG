{
 "cells": [
  {
   "cell_type": "markdown",
   "id": "a7b24007",
   "metadata": {},
   "source": [
    "# Query\n",
    "describes how to make a query against the system"
   ]
  },
  {
   "cell_type": "code",
   "execution_count": null,
   "id": "6bbff30d",
   "metadata": {},
   "outputs": [
    {
     "name": "stderr",
     "output_type": "stream",
     "text": [
      "/home/chris/miniconda3/envs/GraphRAG/lib/python3.13/site-packages/tqdm/auto.py:21: TqdmWarning: IProgress not found. Please update jupyter and ipywidgets. See https://ipywidgets.readthedocs.io/en/stable/user_install.html\n",
      "  from .autonotebook import tqdm as notebook_tqdm\n"
     ]
    },
    {
     "name": "stdout",
     "output_type": "stream",
     "text": [
      "Skipping creating collection; 'graphRAG' already exists.\n"
     ]
    },
    {
     "name": "stderr",
     "output_type": "stream",
     "text": [
      "Device set to use cuda:0\n",
      "[nltk_data] Downloading package punkt_tab to /home/chris/nltk_data...\n",
      "[nltk_data]   Package punkt_tab is already up-to-date!\n"
     ]
    },
    {
     "name": "stdout",
     "output_type": "stream",
     "text": [
      "Related embeddings from Qdrant: [(0.6542791, {'id': 1}), (0.6542791, {'id': 1}), (0.6167123, {'id': 2}), (0.6167123, {'id': 2}), (0.5862309, {'id': 24}), (0.5862309, {'id': 24}), (0.5813081, {'id': 23}), (0.5813081, {'id': 23}), (0.5758892, {'id': 7}), (0.5758892, {'id': 7})]\n",
      "Extracted entities from query: ['normans', 'norma']\n",
      "Relationships from Neo4j: [('Normans', 'different from', 'cultures they conquered'), ('cultures they conquered', 'different from', 'Normans'), ('Normans', 'different from', 'cultures they conquered'), ('cultures they conquered', 'different from', 'Normans'), ('Normans', 'country', 'Wales'), ('Wales', 'located in the administrative territorial entity', 'British'), ('Normans', 'country', 'Wales'), ('Wales', 'contains administrative territorial entity', 'British'), ('Normans', 'country', 'Wales'), ('Wales', 'country', 'United Kingdom'), ('Normans', 'country', 'Wales'), ('Wales', 'contains administrative territorial entity', 'United Kingdom'), ('Normans', 'country', 'Wales'), ('Wales', 'location', 'long period of slow conquest'), ('Normans', 'replaced by', 'Anglo-Saxons'), ('Anglo-Saxons', 'replaces', 'Normans'), ('Normans', 'replaces', 'Anglo-Saxons'), ('Anglo-Saxons', 'replaced by', 'Normans'), ('Normans', 'country', 'England'), ('England', 'continent', 'Europe'), ('Normans', 'country', 'England'), ('England', 'located in the administrative territorial entity', 'East Smithfield burial site'), ('Normans', 'country', 'England'), ('England', 'located in the administrative territorial entity', 'British'), ('Normans', 'country', 'England'), ('England', 'contains administrative territorial entity', 'British'), ('Normans', 'country', 'England'), ('England', 'country of origin', 'Romanesque idiom'), ('Normans', 'country', 'England'), ('England', 'located in or next to body of water', 'English Channel'), ('Normans', 'has part', 'Albanians'), ('Albanians', 'part of', 'Normans'), ('Normans', 'part of', 'Albanians'), ('Albanians', 'has part', 'Normans'), ('Normans', 'different from', 'Franks'), ('Franks', 'different from', 'Normans'), ('Normans', 'different from', 'Franks'), ('Franks', 'ethnic group', 'Carolingian dynasty'), ('Normans', 'different from', 'Franks'), ('Franks', 'different from', 'Normans'), ('Normans', 'different from', 'Franks'), ('Franks', 'ethnic group', 'Carolingian dynasty'), ('Normans', 'different from', 'cultures they conquered'), ('Normans', 'different from', 'cultures they conquered'), ('Normans', 'country', 'Wales'), ('Normans', 'participant', 'Norman Conquest of England'), ('Normans', 'ethnic group', 'Robert the Bruce'), ('Normans', 'instance of', 'ethnicity'), ('Normans', 'subclass of', 'natives'), ('Normans', 'replaced by', 'Anglo-Saxons'), ('Normans', 'replaces', 'Anglo-Saxons'), ('Normans', 'country', 'England'), ('Normans', 'has part', 'Albanians'), ('Normans', 'part of', 'Albanians'), ('Normans', 'participant', 'retreat to Italy'), ('Normans', 'ethnic group', 'Raimbaud'), ('Normans', 'ethnic group', 'Robert Crispin'), ('Normans', 'different from', 'Franks'), ('Normans', 'different from', 'Franks'), ('Normans', 'ethnic group', 'Norman Italy'), ('Normans', 'has part', 'Normant'), ('Normans', 'ethnic group', 'Romanesque architecture'), ('Normans', 'instance of', 'ethnic identity')]\n",
      "Related content from Neo4j: {1: 2, 2: 2, 3: 2, 8: 3, 9: 2, 10: 2, 12: 2, 13: 2, 15: 3, 17: 3, 18: 2, 19: 2, 21: 2, 22: 3, 34: 2, 23: 2, 220: 2, 317: 3, 197: 1, 127: 1, 135: 1, 138: 2, 343: 1, 32: 2, 486: 2, 477: 2, 200: 1, 252: 1, 360: 1, 474: 1, 476: 1, 478: 1, 7: 2}\n",
      "Top Qdrant results: [(0.6542791, {'id': 1}), (0.6542791, {'id': 1}), (0.6167123, {'id': 2})]\n",
      "Qdrant content IDs: [1, 1, 2]\n",
      "Top Neo4j results: [(8, 3), (15, 3), (17, 3)]\n",
      "Neo4j content IDs: [8, 15, 17]\n",
      "All combined content IDs: [1, 2, 8, 15, 17]\n"
     ]
    },
    {
     "data": {
      "text/html": [
       "\n",
       "<table style=\"width:100%; border: 1px solid black; border-collapse: collapse;\">\n",
       "    <tr>\n",
       "        <th style=\"border: 1px solid black; padding: 10px; text-align: left;\">Full Prompt</th>\n",
       "        <th style=\"border: 1px solid black; padding: 10px; text-align: left;\">Response</th>\n",
       "    </tr>\n",
       "    <tr>\n",
       "        <td style=\"border: 1px solid black; padding: 10px; white-space: pre-wrap; text-align: left; vertical-align: top;\">Given the following context:\n",
       "Relevant Articles:\n",
       "The Normans (Norman: Nourmands; French: Normands; Latin: Normanni) were the people who in the 10th and 11th centuries gave their name to Normandy, a region in France. They were descended from Norse (\"Norman\" comes from \"Norseman\") raiders and pirates from Denmark, Iceland and Norway who, under their leader Rollo, agreed to swear fealty to King Charles III of West Francia. Through generations of assimilation and mixing with the native Frankish and Roman-Gaulish populations, their descendants would gradually merge with the Carolingian-based cultures of West Francia. The distinct cultural and ethnic identity of the Normans emerged initially in the first half of the 10th century, and it continued to evolve over the succeeding centuries.\n",
       "---\n",
       "The Norman dynasty had a major political, cultural and military impact on medieval Europe and even the Near East. The Normans were famed for their martial spirit and eventually for their Christian piety, becoming exponents of the Catholic orthodoxy into which they assimilated. They adopted the Gallo-Romance language of the Frankish land they settled, their dialect becoming known as Norman, Normaund or Norman French, an important literary language. The Duchy of Normandy, which they formed by treaty with the French crown, was a great fief of medieval France, and under Richard I of Normandy was forged into a cohesive and formidable principality in feudal tenure. The Normans are noted both for their culture, such as their unique Romanesque architecture and musical traditions, and for their significant military accomplishments and innovations. Norman adventurers founded the Kingdom of Sicily under Roger II after conquering southern Italy on the Saracens and Byzantines, and an expedition on behalf of their duke, William the Conqueror, led to the Norman conquest of England at the Battle of Hastings in 1066. Norman cultural and military influence spread from these new European centres to the Crusader states of the Near East, where their prince Bohemond I founded the Principality of Antioch in the Levant, to Scotland and Wales in Great Britain, to Ireland, and to the coasts of north Africa and the Canary Islands.\n",
       "---\n",
       "Soon after the Normans began to enter Italy, they entered the Byzantine Empire and then Armenia, fighting against the Pechenegs, the Bulgars, and especially the Seljuk Turks. Norman mercenaries were first encouraged to come to the south by the Lombards to act against the Byzantines, but they soon fought in Byzantine service in Sicily. They were prominent alongside Varangian and Lombard contingents in the Sicilian campaign of George Maniaces in 1038–40. There is debate whether the Normans in Greek service actually were from Norman Italy, and it now seems likely only a few came from there. It is also unknown how many of the \"Franks\", as the Byzantines called them, were Normans and not other Frenchmen.\n",
       "---\n",
       "The Normans were in contact with England from an early date. Not only were their original Viking brethren still ravaging the English coasts, they occupied most of the important ports opposite England across the English Channel. This relationship eventually produced closer ties of blood through the marriage of Emma, sister of Duke Richard II of Normandy, and King Ethelred II of England. Because of this, Ethelred fled to Normandy in 1013, when he was forced from his kingdom by Sweyn Forkbeard. His stay in Normandy (until 1016) influenced him and his sons by Emma, who stayed in Normandy after Cnut the Great's conquest of the isle.\n",
       "---\n",
       "In 1066, Duke William II of Normandy conquered England killing King Harold II at the Battle of Hastings. The invading Normans and their descendants replaced the Anglo-Saxons as the ruling class of England. The nobility of England were part of a single Normans culture and many had lands on both sides of the channel. Early Norman kings of England, as Dukes of Normandy, owed homage to the King of France for their land on the continent. They considered England to be their most important holding (it brought with it the title of King—an important status symbol).\n",
       "\n",
       "Knowledge Graph Relationships:\n",
       "('Normans', 'different from', 'cultures they conquered')\n",
       "('cultures they conquered', 'different from', 'Normans')\n",
       "('Normans', 'different from', 'cultures they conquered')\n",
       "('cultures they conquered', 'different from', 'Normans')\n",
       "('Normans', 'country', 'Wales')\n",
       "('Wales', 'located in the administrative territorial entity', 'British')\n",
       "('Normans', 'country', 'Wales')\n",
       "('Wales', 'contains administrative territorial entity', 'British')\n",
       "('Normans', 'country', 'Wales')\n",
       "('Wales', 'country', 'United Kingdom')\n",
       "('Normans', 'country', 'Wales')\n",
       "('Wales', 'contains administrative territorial entity', 'United Kingdom')\n",
       "('Normans', 'country', 'Wales')\n",
       "('Wales', 'location', 'long period of slow conquest')\n",
       "('Normans', 'replaced by', 'Anglo-Saxons')\n",
       "('Anglo-Saxons', 'replaces', 'Normans')\n",
       "('Normans', 'replaces', 'Anglo-Saxons')\n",
       "('Anglo-Saxons', 'replaced by', 'Normans')\n",
       "('Normans', 'country', 'England')\n",
       "('England', 'continent', 'Europe')\n",
       "('Normans', 'country', 'England')\n",
       "('England', 'located in the administrative territorial entity', 'East Smithfield burial site')\n",
       "('Normans', 'country', 'England')\n",
       "('England', 'located in the administrative territorial entity', 'British')\n",
       "('Normans', 'country', 'England')\n",
       "('England', 'contains administrative territorial entity', 'British')\n",
       "('Normans', 'country', 'England')\n",
       "('England', 'country of origin', 'Romanesque idiom')\n",
       "('Normans', 'country', 'England')\n",
       "('England', 'located in or next to body of water', 'English Channel')\n",
       "('Normans', 'has part', 'Albanians')\n",
       "('Albanians', 'part of', 'Normans')\n",
       "('Normans', 'part of', 'Albanians')\n",
       "('Albanians', 'has part', 'Normans')\n",
       "('Normans', 'different from', 'Franks')\n",
       "('Franks', 'different from', 'Normans')\n",
       "('Normans', 'different from', 'Franks')\n",
       "('Franks', 'ethnic group', 'Carolingian dynasty')\n",
       "('Normans', 'different from', 'Franks')\n",
       "('Franks', 'different from', 'Normans')\n",
       "('Normans', 'different from', 'Franks')\n",
       "('Franks', 'ethnic group', 'Carolingian dynasty')\n",
       "('Normans', 'different from', 'cultures they conquered')\n",
       "('Normans', 'different from', 'cultures they conquered')\n",
       "('Normans', 'country', 'Wales')\n",
       "('Normans', 'participant', 'Norman Conquest of England')\n",
       "('Normans', 'ethnic group', 'Robert the Bruce')\n",
       "('Normans', 'instance of', 'ethnicity')\n",
       "('Normans', 'subclass of', 'natives')\n",
       "('Normans', 'replaced by', 'Anglo-Saxons')\n",
       "('Normans', 'replaces', 'Anglo-Saxons')\n",
       "('Normans', 'country', 'England')\n",
       "('Normans', 'has part', 'Albanians')\n",
       "('Normans', 'part of', 'Albanians')\n",
       "('Normans', 'participant', 'retreat to Italy')\n",
       "('Normans', 'ethnic group', 'Raimbaud')\n",
       "('Normans', 'ethnic group', 'Robert Crispin')\n",
       "('Normans', 'different from', 'Franks')\n",
       "('Normans', 'different from', 'Franks')\n",
       "('Normans', 'ethnic group', 'Norman Italy')\n",
       "('Normans', 'has part', 'Normant')\n",
       "('Normans', 'ethnic group', 'Romanesque architecture')\n",
       "('Normans', 'instance of', 'ethnic identity')\n",
       "\n",
       "Answer the question:\n",
       "Who were the normans and why were they so famous?</td>\n",
       "        <td style=\"border: 1px solid black; padding: 10px; white-space: pre-wrap; text-align: left; vertical-align: top;\">The Normans were a medieval people who emerged in the 10th century as a distinct cultural and ethnic group in France. They were descended from Norse raiders and pirates from Denmark, Iceland, and Norway, who settled in Normandy and assimilated with the local Frankish population over time. The Normans became known for their martial spirit, Christian piety, and unique cultural and architectural achievements, such as Romanesque architecture.\n",
       "\n",
       "The Normans were famous for their military accomplishments, including their conquest of England in 1066 under Duke William II, which replaced the Anglo-Saxon ruling class with a Norman one. They also founded the Kingdom of Sicily by conquering southern Italy and established themselves as important players in the political landscape of medieval Europe.\n",
       "\n",
       "The Normans were known for their innovative military tactics, such as the use of cavalry and the development of the \"Norman knight\" archetype. They also had a significant impact on the cultural and linguistic development of the regions they conquered, particularly in England and Italy.\n",
       "\n",
       "In addition to their military prowess and cultural achievements, the Normans were also famous for their unique social and political structure. They were known for their feudal system, where the Duke of Normandy held supreme power and granted land and protection to his vassals in exchange for loyalty and service. This system allowed for a great deal of autonomy and self-governance among the various fiefdoms under Norman control.\n",
       "\n",
       "Overall, the Normans were famous for their distinct cultural identity, their military prowess, and their significant impact on the political and cultural landscape of medieval Europe.</td>\n",
       "    </tr>\n",
       "</table>\n"
      ],
      "text/plain": [
       "<IPython.core.display.HTML object>"
      ]
     },
     "metadata": {},
     "output_type": "display_data"
    }
   ],
   "source": [
    "from graphRAGQuerier import GraphRagQuerier\n",
    "import pandas as pd\n",
    "from utils import display_prompt_and_output\n",
    "query=\"Who were the normans and why were they so famous?\"\n",
    "graphRag=GraphRagQuerier()\n",
    "full_prompt, response=graphRag.query(query)\n",
    "display_prompt_and_output(full_prompt, response, display)\n"
   ]
  }
 ],
 "metadata": {
  "kernelspec": {
   "display_name": "GraphRAG",
   "language": "python",
   "name": "python3"
  },
  "language_info": {
   "codemirror_mode": {
    "name": "ipython",
    "version": 3
   },
   "file_extension": ".py",
   "mimetype": "text/x-python",
   "name": "python",
   "nbconvert_exporter": "python",
   "pygments_lexer": "ipython3",
   "version": "3.13.2"
  }
 },
 "nbformat": 4,
 "nbformat_minor": 5
}
