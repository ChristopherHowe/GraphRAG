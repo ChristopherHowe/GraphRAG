{
 "cells": [
  {
   "cell_type": "markdown",
   "id": "5983b506",
   "metadata": {},
   "source": [
    "# Testing Neo4j Relationship Insertion\n",
    "This notebook tests the functionality of the Neo4j_Driver class for inserting relationships and managing content IDs."
   ]
  },
  {
   "cell_type": "markdown",
   "id": "d8e7cc08",
   "metadata": {},
   "source": [
    "## Setup Environment and Imports\n",
    "First, let's import the necessary dependencies and our custom Neo4j_Driver class."
   ]
  },
  {
   "cell_type": "code",
   "execution_count": 3,
   "id": "471a2dbf",
   "metadata": {},
   "outputs": [],
   "source": [
    "from dotenv import load_dotenv\n",
    "from neo4j_funcs import Neo4j_Driver"
   ]
  },
  {
   "cell_type": "markdown",
   "id": "d332d603",
   "metadata": {},
   "source": [
    "## Initialize Neo4j Connection\n",
    "Create an instance of Neo4j_Driver and ensure we can connect to the database."
   ]
  },
  {
   "cell_type": "code",
   "execution_count": 4,
   "id": "e65213f7",
   "metadata": {},
   "outputs": [
    {
     "name": "stdout",
     "output_type": "stream",
     "text": [
      "Neo4j connection initialized\n"
     ]
    }
   ],
   "source": [
    "# Initialize the driver\n",
    "neo4j_driver = Neo4j_Driver()\n",
    "print(\"Neo4j connection initialized\")"
   ]
  },
  {
   "cell_type": "markdown",
   "id": "31a34045",
   "metadata": {},
   "source": [
    "## Test Basic Relationship Insertion\n",
    "Let's test inserting a simple relationship between two nodes."
   ]
  },
  {
   "cell_type": "code",
   "execution_count": null,
   "id": "ac38401c",
   "metadata": {},
   "outputs": [],
   "source": [
    "# Test basic relationship insertion\n",
    "try:\n",
    "    result = neo4j_driver.insert_relationship(\n",
    "        subject=\"John\",\n",
    "        subject_type=\"Person\",\n",
    "        predicate=\"KNOWS\",\n",
    "        object=\"Jane\",\n",
    "        object_type=\"Person\",\n",
    "        content_id=\"doc1\"\n",
    "    )\n",
    "    print(\"Relationship created successfully!\")\n",
    "    print(f\"Result: {result}\")\n",
    "except Exception as e:\n",
    "    print(f\"Error: {e}\")"
   ]
  },
  {
   "cell_type": "markdown",
   "id": "f2b6c23d",
   "metadata": {},
   "source": [
    "## Test Content ID Updates\n",
    "Now let's test how content_ids are handled when inserting relationships with existing nodes."
   ]
  },
  {
   "cell_type": "code",
   "execution_count": null,
   "id": "f58ee283",
   "metadata": {},
   "outputs": [],
   "source": [
    "# Test content ID updates with existing nodes\n",
    "try:\n",
    "    # Insert same relationship with different content_id\n",
    "    result = neo4j_driver.insert_relationship(\n",
    "        subject=\"John\",\n",
    "        subject_type=\"Person\",\n",
    "        predicate=\"KNOWS\",\n",
    "        object=\"Jane\",\n",
    "        object_type=\"Person\",\n",
    "        content_id=\"doc2\"\n",
    "    )\n",
    "    print(\"Second relationship created!\")\n",
    "    print(f\"Result: {result}\")\n",
    "except Exception as e:\n",
    "    print(f\"Error: {e}\")"
   ]
  },
  {
   "cell_type": "markdown",
   "id": "d73f01e0",
   "metadata": {},
   "source": [
    "## Test Error Handling\n",
    "Test the function's behavior with invalid inputs."
   ]
  },
  {
   "cell_type": "code",
   "execution_count": null,
   "id": "acbd551b",
   "metadata": {},
   "outputs": [],
   "source": [
    "# Test with invalid inputs\n",
    "test_cases = [\n",
    "    {\n",
    "        'subject': None,\n",
    "        'subject_type': \"Person\",\n",
    "        'predicate': \"KNOWS\",\n",
    "        'object': \"Jane\",\n",
    "        'object_type': \"Person\",\n",
    "        'content_id': \"doc3\"\n",
    "    },\n",
    "    {\n",
    "        'subject': \"John\",\n",
    "        'subject_type': \"\",\n",
    "        'predicate': \"KNOWS\",\n",
    "        'object': \"Jane\",\n",
    "        'object_type': \"Person\",\n",
    "        'content_id': \"doc3\"\n",
    "    }\n",
    "]\n",
    "\n",
    "for test_case in test_cases:\n",
    "    try:\n",
    "        result = neo4j_driver.insert_relationship(**test_case)\n",
    "        print(f\"Test case completed: {result}\")\n",
    "    except Exception as e:\n",
    "        print(f\"Expected error occurred: {e}\")"
   ]
  },
  {
   "cell_type": "markdown",
   "id": "70bf4640",
   "metadata": {},
   "source": [
    "## Cleanup and Connection Close\n",
    "Clean up test data and close the Neo4j connection."
   ]
  },
  {
   "cell_type": "code",
   "execution_count": null,
   "id": "2c7e07c5",
   "metadata": {},
   "outputs": [],
   "source": [
    "# Close the connection\n",
    "try:\n",
    "    neo4j_driver.close_connection()\n",
    "    print(\"Connection closed successfully\")\n",
    "except Exception as e:\n",
    "    print(f\"Error closing connection: {e}\")"
   ]
  }
 ],
 "metadata": {
  "kernelspec": {
   "display_name": "GraphRAG",
   "language": "python",
   "name": "python3"
  },
  "language_info": {
   "codemirror_mode": {
    "name": "ipython",
    "version": 3
   },
   "file_extension": ".py",
   "mimetype": "text/x-python",
   "name": "python",
   "nbconvert_exporter": "python",
   "pygments_lexer": "ipython3",
   "version": "3.13.2"
  }
 },
 "nbformat": 4,
 "nbformat_minor": 5
}
